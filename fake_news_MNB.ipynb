{
  "cells": [
    {
      "cell_type": "code",
      "execution_count": null,
      "metadata": {
        "id": "fuh8zhOYOZsn"
      },
      "outputs": [],
      "source": [
        "import re\n",
        "import pandas as pd\n",
        "import numpy as np\n",
        "import matplotlib.pyplot as plt\n",
        "import seaborn as sns\n",
        "import nltk\n",
        "import csv\n",
        "import tweepy\n",
        "import time\n",
        "from sklearn.feature_extraction.text import CountVectorizer\n",
        "from sklearn.naive_bayes import MultinomialNB\n",
        "from sklearn.model_selection import train_test_split\n",
        "from sklearn.metrics import confusion_matrix, accuracy_score, classification_report\n",
        "from nltk.tokenize import word_tokenize\n",
        "from nltk.corpus import stopwords"
      ]
    },
    {
      "cell_type": "code",
      "execution_count": null,
      "metadata": {
        "colab": {
          "base_uri": "https://localhost:8080/",
          "height": 538
        },
        "id": "m8lGYXY_75-M",
        "outputId": "a6d2261c-86f2-4af2-bf07-444d79cb60f5"
      },
      "outputs": [
        {
          "name": "stdout",
          "output_type": "stream",
          "text": [
            "['irrelevant' 'politics' 'true public health response' 'news'\n",
            " 'calling out or correction' 'sarcasm or satire' 'fake cure' 'conspiracy'\n",
            " 'true prevention' 'ambiguous or hard to classify'\n",
            " 'false fact or prevention' 'panic buying'\n",
            " 'commercial activity or promotion' 'fake treatment' 'emergency'\n",
            " 'false public health response']\n",
            "['conspiracy', 'fake cure', 'fake treatment', 'false fact or prevention', 'false public health response']\n"
          ]
        },
        {
          "data": {
            "text/html": [
              "<div>\n",
              "<style scoped>\n",
              "    .dataframe tbody tr th:only-of-type {\n",
              "        vertical-align: middle;\n",
              "    }\n",
              "\n",
              "    .dataframe tbody tr th {\n",
              "        vertical-align: top;\n",
              "    }\n",
              "\n",
              "    .dataframe thead th {\n",
              "        text-align: right;\n",
              "    }\n",
              "</style>\n",
              "<table border=\"1\" class=\"dataframe\">\n",
              "  <thead>\n",
              "    <tr style=\"text-align: right;\">\n",
              "      <th></th>\n",
              "      <th>status_id</th>\n",
              "      <th>status_created_at</th>\n",
              "      <th>annotation1</th>\n",
              "      <th>annotation2</th>\n",
              "    </tr>\n",
              "  </thead>\n",
              "  <tbody>\n",
              "    <tr>\n",
              "      <th>0</th>\n",
              "      <td>1237387231779840000</td>\n",
              "      <td>Tue Mar 10 14:38:00 +0000 2020</td>\n",
              "      <td>irrelevant</td>\n",
              "      <td>NaN</td>\n",
              "    </tr>\n",
              "    <tr>\n",
              "      <th>1</th>\n",
              "      <td>1240175235304960000</td>\n",
              "      <td>Wed Mar 18 07:16:32 +0000 2020</td>\n",
              "      <td>irrelevant</td>\n",
              "      <td>NaN</td>\n",
              "    </tr>\n",
              "    <tr>\n",
              "      <th>2</th>\n",
              "      <td>1241324844920320000</td>\n",
              "      <td>Sat Mar 21 11:24:40 +0000 2020</td>\n",
              "      <td>irrelevant</td>\n",
              "      <td>NaN</td>\n",
              "    </tr>\n",
              "    <tr>\n",
              "      <th>3</th>\n",
              "      <td>1241872361743360000</td>\n",
              "      <td>Sun Mar 22 23:40:18 +0000 2020</td>\n",
              "      <td>irrelevant</td>\n",
              "      <td>NaN</td>\n",
              "    </tr>\n",
              "    <tr>\n",
              "      <th>4</th>\n",
              "      <td>1243024442621440000</td>\n",
              "      <td>Thu Mar 26 03:58:16 +0000 2020</td>\n",
              "      <td>irrelevant</td>\n",
              "      <td>NaN</td>\n",
              "    </tr>\n",
              "    <tr>\n",
              "      <th>...</th>\n",
              "      <td>...</td>\n",
              "      <td>...</td>\n",
              "      <td>...</td>\n",
              "      <td>...</td>\n",
              "    </tr>\n",
              "    <tr>\n",
              "      <th>4568</th>\n",
              "      <td>1280654762950774785</td>\n",
              "      <td>Wed Jul 08 00:07:43 +0000 2020</td>\n",
              "      <td>calling out or correction</td>\n",
              "      <td>NaN</td>\n",
              "    </tr>\n",
              "    <tr>\n",
              "      <th>4569</th>\n",
              "      <td>1280669090835828738</td>\n",
              "      <td>Wed Jul 08 01:04:39 +0000 2020</td>\n",
              "      <td>fake cure</td>\n",
              "      <td>NaN</td>\n",
              "    </tr>\n",
              "    <tr>\n",
              "      <th>4570</th>\n",
              "      <td>1280675380014309376</td>\n",
              "      <td>Wed Jul 08 01:29:39 +0000 2020</td>\n",
              "      <td>calling out or correction</td>\n",
              "      <td>NaN</td>\n",
              "    </tr>\n",
              "    <tr>\n",
              "      <th>4571</th>\n",
              "      <td>1280676605396836352</td>\n",
              "      <td>Wed Jul 08 01:34:31 +0000 2020</td>\n",
              "      <td>politics</td>\n",
              "      <td>NaN</td>\n",
              "    </tr>\n",
              "    <tr>\n",
              "      <th>4572</th>\n",
              "      <td>1280693005599506432</td>\n",
              "      <td>Wed Jul 08 02:39:41 +0000 2020</td>\n",
              "      <td>calling out or correction</td>\n",
              "      <td>NaN</td>\n",
              "    </tr>\n",
              "  </tbody>\n",
              "</table>\n",
              "<p>4573 rows × 4 columns</p>\n",
              "</div>"
            ],
            "text/plain": [
              "                status_id  ... annotation2\n",
              "0     1237387231779840000  ...         NaN\n",
              "1     1240175235304960000  ...         NaN\n",
              "2     1241324844920320000  ...         NaN\n",
              "3     1241872361743360000  ...         NaN\n",
              "4     1243024442621440000  ...         NaN\n",
              "...                   ...  ...         ...\n",
              "4568  1280654762950774785  ...         NaN\n",
              "4569  1280669090835828738  ...         NaN\n",
              "4570  1280675380014309376  ...         NaN\n",
              "4571  1280676605396836352  ...         NaN\n",
              "4572  1280693005599506432  ...         NaN\n",
              "\n",
              "[4573 rows x 4 columns]"
            ]
          },
          "execution_count": 2,
          "metadata": {},
          "output_type": "execute_result"
        }
      ],
      "source": [
        "raw_df = pd.read_csv('CMU_MisCov19_dataset.csv')\n",
        "\n",
        "fake_news_filter_array = ['conspiracy', 'fake cure', 'fake treatment', 'false fact or prevention', 'false public health response']\n",
        "\n",
        "a1 = raw_df['annotation1'].unique()\n",
        "print(a1)\n",
        "print(fake_news_filter_array)\n",
        "\n",
        "raw_df"
      ]
    },
    {
      "cell_type": "code",
      "execution_count": null,
      "metadata": {
        "colab": {
          "base_uri": "https://localhost:8080/",
          "height": 503
        },
        "id": "ptTsXJfpBKXP",
        "outputId": "4022b0f3-5447-4a30-85c2-360704f2caad"
      },
      "outputs": [
        {
          "name": "stderr",
          "output_type": "stream",
          "text": [
            "/usr/local/lib/python3.7/dist-packages/pandas/core/frame.py:4174: SettingWithCopyWarning: \n",
            "A value is trying to be set on a copy of a slice from a DataFrame\n",
            "\n",
            "See the caveats in the documentation: https://pandas.pydata.org/pandas-docs/stable/user_guide/indexing.html#returning-a-view-versus-a-copy\n",
            "  errors=errors,\n"
          ]
        },
        {
          "data": {
            "text/html": [
              "<div>\n",
              "<style scoped>\n",
              "    .dataframe tbody tr th:only-of-type {\n",
              "        vertical-align: middle;\n",
              "    }\n",
              "\n",
              "    .dataframe tbody tr th {\n",
              "        vertical-align: top;\n",
              "    }\n",
              "\n",
              "    .dataframe thead th {\n",
              "        text-align: right;\n",
              "    }\n",
              "</style>\n",
              "<table border=\"1\" class=\"dataframe\">\n",
              "  <thead>\n",
              "    <tr style=\"text-align: right;\">\n",
              "      <th></th>\n",
              "      <th>status_id</th>\n",
              "    </tr>\n",
              "  </thead>\n",
              "  <tbody>\n",
              "    <tr>\n",
              "      <th>18</th>\n",
              "      <td>1226276322021978117</td>\n",
              "    </tr>\n",
              "    <tr>\n",
              "      <th>20</th>\n",
              "      <td>1227362900970479617</td>\n",
              "    </tr>\n",
              "    <tr>\n",
              "      <th>21</th>\n",
              "      <td>1228090968114651138</td>\n",
              "    </tr>\n",
              "    <tr>\n",
              "      <th>22</th>\n",
              "      <td>1228608922426249216</td>\n",
              "    </tr>\n",
              "    <tr>\n",
              "      <th>24</th>\n",
              "      <td>1232394717641334785</td>\n",
              "    </tr>\n",
              "    <tr>\n",
              "      <th>...</th>\n",
              "      <td>...</td>\n",
              "    </tr>\n",
              "    <tr>\n",
              "      <th>4561</th>\n",
              "      <td>1280624272134688769</td>\n",
              "    </tr>\n",
              "    <tr>\n",
              "      <th>4562</th>\n",
              "      <td>1280626582013517824</td>\n",
              "    </tr>\n",
              "    <tr>\n",
              "      <th>4563</th>\n",
              "      <td>1280627431527890947</td>\n",
              "    </tr>\n",
              "    <tr>\n",
              "      <th>4566</th>\n",
              "      <td>1280642718549422081</td>\n",
              "    </tr>\n",
              "    <tr>\n",
              "      <th>4569</th>\n",
              "      <td>1280669090835828738</td>\n",
              "    </tr>\n",
              "  </tbody>\n",
              "</table>\n",
              "<p>1423 rows × 1 columns</p>\n",
              "</div>"
            ],
            "text/plain": [
              "                status_id\n",
              "18    1226276322021978117\n",
              "20    1227362900970479617\n",
              "21    1228090968114651138\n",
              "22    1228608922426249216\n",
              "24    1232394717641334785\n",
              "...                   ...\n",
              "4561  1280624272134688769\n",
              "4562  1280626582013517824\n",
              "4563  1280627431527890947\n",
              "4566  1280642718549422081\n",
              "4569  1280669090835828738\n",
              "\n",
              "[1423 rows x 1 columns]"
            ]
          },
          "execution_count": 3,
          "metadata": {},
          "output_type": "execute_result"
        }
      ],
      "source": [
        "fake_tweets_df = raw_df.loc[raw_df['annotation1'].isin(fake_news_filter_array)]\n",
        "\n",
        "fake_tweets_df.drop(['status_created_at', 'annotation1','annotation2'], axis='columns', inplace=True)\n",
        "fake_tweets_df"
      ]
    },
    {
      "cell_type": "code",
      "execution_count": null,
      "metadata": {
        "id": "UI56xFMZfkk0"
      },
      "outputs": [],
      "source": [
        "fake_tweets_df.to_csv(\"fake_tweets_id.csv\", index=False)"
      ]
    },
    {
      "cell_type": "code",
      "execution_count": null,
      "metadata": {
        "id": "hV_Y5lCu76MS"
      },
      "outputs": [],
      "source": [
        "api = tweepy.API(auth, wait_on_rate_limit=True, wait_on_rate_limit_notify=True)\n",
        "\n",
        "file = open(\"fake_tweets_df.csv\", \"w\")\n",
        "writer = csv.writer(file)\n",
        "\n",
        "writer.writerow([\"tweet\", \"class\"])\n",
        "sleepTime = 2\n",
        "\n",
        "with open(\"fake_tweets_id.csv\", \"r\") as tweet_ids:\n",
        "  for tweet_id in tweet_ids:\n",
        "    try:\n",
        "      tweet = api.get_status(tweet_id)\n",
        "      tweet_text = tweet._json['text']\n",
        "      \n",
        "      writer.writerow([tweet_text, 0])\n",
        "      time.sleep(sleepTime)\n",
        "\n",
        "    except tweepy.TweepError as e:\n",
        "      excep_count += 1\n",
        "      print(e)\n",
        "      continue\n",
        "    except StopIteration:\n",
        "        break\n",
        "\n",
        "file.close()"
      ]
    },
    {
      "cell_type": "code",
      "execution_count": null,
      "metadata": {
        "id": "N1uHfj0G76Vw"
      },
      "outputs": [],
      "source": [
        "train_df = pd.read_csv(\"train_df.csv\")"
      ]
    },
    {
      "cell_type": "code",
      "execution_count": null,
      "metadata": {
        "colab": {
          "base_uri": "https://localhost:8080/",
          "height": 589
        },
        "id": "iROqY6_aFrhB",
        "outputId": "f79cc85b-a999-4c10-ac14-c4f40b75eabe"
      },
      "outputs": [
        {
          "data": {
            "text/html": [
              "<div>\n",
              "<style scoped>\n",
              "    .dataframe tbody tr th:only-of-type {\n",
              "        vertical-align: middle;\n",
              "    }\n",
              "\n",
              "    .dataframe tbody tr th {\n",
              "        vertical-align: top;\n",
              "    }\n",
              "\n",
              "    .dataframe thead th {\n",
              "        text-align: right;\n",
              "    }\n",
              "</style>\n",
              "<table border=\"1\" class=\"dataframe\">\n",
              "  <thead>\n",
              "    <tr style=\"text-align: right;\">\n",
              "      <th></th>\n",
              "      <th>tweetOG</th>\n",
              "      <th>tweetBR</th>\n",
              "      <th>class</th>\n",
              "    </tr>\n",
              "  </thead>\n",
              "  <tbody>\n",
              "    <tr>\n",
              "      <th>0</th>\n",
              "      <td>Facebook posts shared in at least three countr...</td>\n",
              "      <td>Postagens do Facebook compartilhadas em pelo m...</td>\n",
              "      <td>0</td>\n",
              "    </tr>\n",
              "    <tr>\n",
              "      <th>1</th>\n",
              "      <td>Wisconsin is Òclearly seeing a decline in COVI...</td>\n",
              "      <td>Wisconsin está vendo um declínio no Covid Infe...</td>\n",
              "      <td>0</td>\n",
              "    </tr>\n",
              "    <tr>\n",
              "      <th>2</th>\n",
              "      <td>Facebook posts claim a child who is infected w...</td>\n",
              "      <td>Postagens do Facebook Reivindicam uma criança ...</td>\n",
              "      <td>0</td>\n",
              "    </tr>\n",
              "    <tr>\n",
              "      <th>3</th>\n",
              "      <td>IndiaÕs Ministry of Home Affairs banning citiz...</td>\n",
              "      <td>Índia Ministério dos Assuntos Internos que pro...</td>\n",
              "      <td>0</td>\n",
              "    </tr>\n",
              "    <tr>\n",
              "      <th>4</th>\n",
              "      <td>42 Democratic senators, plus two Independents,...</td>\n",
              "      <td>42 Senadores democráticos, mais dois independe...</td>\n",
              "      <td>0</td>\n",
              "    </tr>\n",
              "    <tr>\n",
              "      <th>...</th>\n",
              "      <td>...</td>\n",
              "      <td>...</td>\n",
              "      <td>...</td>\n",
              "    </tr>\n",
              "    <tr>\n",
              "      <th>3519</th>\n",
              "      <td>Another cure for COVID- must watch! https://t....</td>\n",
              "      <td>Outra cura para Covid- deve assistir! https://...</td>\n",
              "      <td>0</td>\n",
              "    </tr>\n",
              "    <tr>\n",
              "      <th>3520</th>\n",
              "      <td>And gives billions to Bill Gates and GAVI for ...</td>\n",
              "      <td>E dá bilhões a Bill Gates e Gavi para um tiro ...</td>\n",
              "      <td>0</td>\n",
              "    </tr>\n",
              "    <tr>\n",
              "      <th>3521</th>\n",
              "      <td>.@LionHea31111776 This entire covid melodrama ...</td>\n",
              "      <td>@ Lionhea31111776 Todo este melodrama Covid é ...</td>\n",
              "      <td>0</td>\n",
              "    </tr>\n",
              "    <tr>\n",
              "      <th>3522</th>\n",
              "      <td>Bill Gates never wears a mask and takes big be...</td>\n",
              "      <td>Bill Gates nunca usa uma máscara e leva grande...</td>\n",
              "      <td>0</td>\n",
              "    </tr>\n",
              "    <tr>\n",
              "      <th>3523</th>\n",
              "      <td>Doctor Finds Cure to COVID-19 (without Vaccine...</td>\n",
              "      <td>Médico encontra cura para Covid-19 (sem vacina...</td>\n",
              "      <td>0</td>\n",
              "    </tr>\n",
              "  </tbody>\n",
              "</table>\n",
              "<p>3524 rows × 3 columns</p>\n",
              "</div>"
            ],
            "text/plain": [
              "                                                tweetOG  ... class\n",
              "0     Facebook posts shared in at least three countr...  ...     0\n",
              "1     Wisconsin is Òclearly seeing a decline in COVI...  ...     0\n",
              "2     Facebook posts claim a child who is infected w...  ...     0\n",
              "3     IndiaÕs Ministry of Home Affairs banning citiz...  ...     0\n",
              "4     42 Democratic senators, plus two Independents,...  ...     0\n",
              "...                                                 ...  ...   ...\n",
              "3519  Another cure for COVID- must watch! https://t....  ...     0\n",
              "3520  And gives billions to Bill Gates and GAVI for ...  ...     0\n",
              "3521  .@LionHea31111776 This entire covid melodrama ...  ...     0\n",
              "3522  Bill Gates never wears a mask and takes big be...  ...     0\n",
              "3523  Doctor Finds Cure to COVID-19 (without Vaccine...  ...     0\n",
              "\n",
              "[3524 rows x 3 columns]"
            ]
          },
          "execution_count": 3,
          "metadata": {},
          "output_type": "execute_result"
        }
      ],
      "source": [
        "train_df"
      ]
    },
    {
      "cell_type": "markdown",
      "metadata": {
        "id": "0jlUcRglG4Q4"
      },
      "source": [
        "Limpeza dos dados"
      ]
    },
    {
      "cell_type": "code",
      "execution_count": null,
      "metadata": {
        "colab": {
          "base_uri": "https://localhost:8080/"
        },
        "id": "q2fcCPDHG5V_",
        "outputId": "2b7ce6db-610c-452e-91fc-cb956112e4c0"
      },
      "outputs": [
        {
          "name": "stdout",
          "output_type": "stream",
          "text": [
            "No of missing title\t: 0\n",
            "No of missing text\t: 0\n",
            "No of missing source\t: 0\n",
            "1784\n",
            "1740\n"
          ]
        }
      ],
      "source": [
        "print(\"No of missing title\\t:\", train_df[train_df['tweetOG'].isna()].shape[0])\n",
        "print(\"No of missing text\\t:\", train_df[train_df['tweetBR'].isna()].shape[0])\n",
        "print(\"No of missing source\\t:\", train_df[train_df['class'].isna()].shape[0])\n",
        "\n",
        "no_of_fakes = train_df.loc[train_df['class'] == 0].count()[0]\n",
        "no_of_trues = train_df.loc[train_df['class'] == 1].count()[0]\n",
        "\n",
        "print(no_of_fakes)\n",
        "print(no_of_trues)\n",
        "\n"
      ]
    },
    {
      "cell_type": "code",
      "execution_count": null,
      "metadata": {
        "colab": {
          "base_uri": "https://localhost:8080/"
        },
        "id": "3ZcawIgnsHzH",
        "outputId": "0af7429e-aad8-4611-b6da-3277372b22cb"
      },
      "outputs": [
        {
          "name": "stdout",
          "output_type": "stream",
          "text": [
            "<class 'pandas.core.frame.DataFrame'>\n",
            "RangeIndex: 3524 entries, 0 to 3523\n",
            "Data columns (total 3 columns):\n",
            " #   Column   Non-Null Count  Dtype \n",
            "---  ------   --------------  ----- \n",
            " 0   tweetOG  3524 non-null   object\n",
            " 1   tweetBR  3524 non-null   object\n",
            " 2   class    3524 non-null   int64 \n",
            "dtypes: int64(1), object(2)\n",
            "memory usage: 82.7+ KB\n"
          ]
        }
      ],
      "source": [
        "train_df.info(verbose=True)"
      ]
    },
    {
      "cell_type": "code",
      "execution_count": null,
      "metadata": {
        "colab": {
          "base_uri": "https://localhost:8080/"
        },
        "id": "iNh1XAYxpYjG",
        "outputId": "00c0476e-9040-4319-b69f-2dad90231466"
      },
      "outputs": [
        {
          "data": {
            "text/plain": [
              "tweetOG    0\n",
              "tweetBR    0\n",
              "class      0\n",
              "dtype: int64"
            ]
          },
          "execution_count": 5,
          "metadata": {},
          "output_type": "execute_result"
        }
      ],
      "source": [
        "train_df.isnull().sum()"
      ]
    },
    {
      "cell_type": "code",
      "execution_count": null,
      "metadata": {
        "colab": {
          "base_uri": "https://localhost:8080/"
        },
        "id": "847wDoknJS3M",
        "outputId": "693ed3bf-8b0d-4120-afe0-1f7218617c13"
      },
      "outputs": [
        {
          "name": "stdout",
          "output_type": "stream",
          "text": [
            "[nltk_data] Downloading package stopwords to /root/nltk_data...\n",
            "[nltk_data]   Unzipping corpora/stopwords.zip.\n",
            "{'quem', 'esse', 'minhas', 'ao', 'depois', 'terão', 'delas', 'por', 'tínhamos', 'pelo', 'vos', 'também', 'houver', 'foi', 'aquele', 'como', 'até', 'suas', 'meu', 'tuas', 'no', 'nós', 'houverem', 'se', 'eram', 'esteja', 'à', 'estivemos', 'houveriam', 'houvemos', 'será', 'nem', 'tu', 'num', 'mesmo', 'estiverem', 'serei', 'sejam', 'houvessem', 'ela', 'nossas', 'hajamos', 'fôssemos', 'quando', 'houveria', 'vocês', 'o', 'mas', 'houvera', 'seríamos', 'houveram', 'houverei', 'nossa', 'temos', 'qual', 'estávamos', 'na', 'entre', 'meus', 'tivera', 'estes', 'aqueles', 'estivera', 'são', 'isto', 'houve', 'estivessem', 'é', 'do', 'teu', 'você', 'terá', 'e', 'estamos', 'houvéramos', 'teríamos', 'tiveram', 'houveremos', 'eles', 'com', 'estava', 'seu', 'tua', 'teria', 'tém', 'tivessem', 'essas', 'hei', 'sem', 'dos', 'as', 'teriam', 'me', 'tivemos', 'às', 'fora', 'numa', 'dele', 'tem', 'nossos', 'for', 'tive', 'para', 'ou', 'seus', 'esteve', 'tenhamos', 'estejamos', 'nas', 'essa', 'houverão', 'formos', 'houverá', 'tiver', 'tinham', 'pela', 'este', 'tenha', 'houvermos', 'lhes', 'seria', 'foram', 'houvéssemos', 'os', 'de', 'te', 'houvesse', 'está', 'aquilo', 'houveríamos', 'fosse', 'aquela', 'esta', 'há', 'seja', 'sou', 'teve', 'isso', 'elas', 'estejam', 'tivéramos', 'teremos', 'tinha', 'das', 'eu', 'uma', 'hajam', 'éramos', 'um', 'estivéramos', 'teus', 'minha', 'terei', 'a', 'esses', 'aquelas', 'hão', 'aos', 'nosso', 'seremos', 'sua', 'tenham', 'ele', 'em', 'estive', 'serão', 'estivesse', 'fomos', 'deles', 'sejamos', 'forem', 'estão', 'pelos', 'tivermos', 'estas', 'tivéssemos', 'nos', 'dela', 'era', 'estivermos', 'havemos', 'tenho', 'estivéssemos', 'haja', 'já', 'mais', 'estiver', 'estou', 'somos', 'que', 'da', 'fui', 'não', 'fossem', 'estavam', 'só', 'lhe', 'estiveram', 'tiverem', 'muito', 'fôramos', 'pelas', 'tivesse', 'seriam'}\n"
          ]
        }
      ],
      "source": [
        "nltk.download('stopwords')\n",
        "\n",
        "stop_words = set(stopwords.words('portuguese'))\n",
        "\n",
        "print(stop_words)"
      ]
    },
    {
      "cell_type": "code",
      "execution_count": null,
      "metadata": {
        "id": "4jtxQWtsvm7b"
      },
      "outputs": [],
      "source": [
        "def clean(text):\n",
        "  \n",
        "  text = text.lower()\n",
        "  \n",
        "  #remove @ mentions\n",
        "  text = re.sub(r'@[a-z0-9]+','',text)\n",
        "  \n",
        "  #remove any kind of link\n",
        "  text= re.sub(r'http\\S+', '', text)\n",
        "\n",
        "  # Removing numbers\n",
        "  text = re.sub('[^a-zà-ü]+',' ',text) \n",
        "\n",
        "  word_tokens = word_tokenize(text)\n",
        "\n",
        "  filtered_sentence = []\n",
        "  for word_token in word_tokens:\n",
        "      if word_token not in stop_words:\n",
        "          filtered_sentence.append(word_token)\n",
        "  \n",
        "  text = (' '.join(filtered_sentence))\n",
        "  return text\n"
      ]
    },
    {
      "cell_type": "code",
      "execution_count": null,
      "metadata": {
        "colab": {
          "base_uri": "https://localhost:8080/"
        },
        "id": "F_6m_TGpycT1",
        "outputId": "6ccf8e29-91d6-45bc-a594-a86b58547586"
      },
      "outputs": [
        {
          "name": "stdout",
          "output_type": "stream",
          "text": [
            "[nltk_data] Downloading package punkt to /root/nltk_data...\n",
            "[nltk_data]   Unzipping tokenizers/punkt.zip.\n",
            "Òmy esposa está sofrendo de coronavírus e ela está grávida. O médico disse que ela wonõt sobrevive.\n",
            "Posts compartilhados com mais de 2.000 vezes em mídias sociais parecem mostrar um Tweet de Donald Trump de Donald Trump, criticando então - o presidente Barack Obamaõ como manuseio da pandemia H1N1 e colocação de @TAL responsabilidade em presidentes em uma crise.\n",
            "Gov. Andrew Cuomo òwas simplesmente dizendo se pudermos compartilhar 20% do seu excesso, seus ventiladores não utilizados, para ajudar as pessoas em outras partes do estado de forma voluntária, isso seria ótimo. Claro, houve uma reação a isso, o que não foi positivo.\n",
            "As verificações de alívio de coronavírus de US $ 1.200 este ano são ante um avanço em sua próxima declaração de imposto. É no próximo ano, você está automaticamente indo para Owe $ 1.200 chegando temporada de imposto.\n",
            "apos limpeza...\n",
            "òmy esposa sofrendo coronavírus grávida médico disse wonõt sobrevive\n",
            "posts compartilhados vezes mídias sociais parecem mostrar tweet donald trump donald trump criticando então presidente barack obamaõ manuseio pandemia h n colocação responsabilidade presidentes crise\n",
            "gov andrew cuomo òwas simplesmente dizendo pudermos compartilhar excesso ventiladores utilizados ajudar pessoas outras partes estado forma voluntária ótimo claro reação positivo\n",
            "verificações alívio coronavírus us ano ante avanço próxima declaração imposto próximo ano automaticamente indo owe chegando temporada imposto\n"
          ]
        }
      ],
      "source": [
        "nltk.download('punkt')\n",
        "\n",
        "print(train_df['tweetBR'][10])\n",
        "print(train_df['tweetBR'][20])\n",
        "print(train_df['tweetBR'][30])\n",
        "print(train_df['tweetBR'][40])\n",
        "print(\"apos limpeza...\")\n",
        "\n",
        "print(clean(train_df['tweetBR'][10]))\n",
        "print(clean(train_df['tweetBR'][20]))\n",
        "print(clean(train_df['tweetBR'][30]))\n",
        "print(clean(train_df['tweetBR'][40]))"
      ]
    },
    {
      "cell_type": "code",
      "execution_count": null,
      "metadata": {
        "colab": {
          "base_uri": "https://localhost:8080/"
        },
        "id": "j9J1iE22mkfz",
        "outputId": "36625846-10a4-4a01-93a6-2fc8402c53af"
      },
      "outputs": [
        {
          "data": {
            "text/plain": [
              "0       postagens facebook compartilhadas menos três p...\n",
              "1               wisconsin vendo declínio covid infectionó\n",
              "2       postagens facebook reivindicam criança infecta...\n",
              "3       índia ministério assuntos internos proíbem cid...\n",
              "4       senadores democráticos dois independentes vota...\n",
              "                              ...                        \n",
              "3519                       outra cura covid deve assistir\n",
              "3520    dá bilhões bill gates gavi tiro covid esterili...\n",
              "3521    lionhea todo melodrama covid artificialmente i...\n",
              "3522    bill gates nunca usa máscara leva grandes bene...\n",
              "3523                médico encontra cura covid vacina via\n",
              "Name: tweetBR, Length: 3524, dtype: object"
            ]
          },
          "execution_count": 9,
          "metadata": {},
          "output_type": "execute_result"
        }
      ],
      "source": [
        "train_df['tweetBR'] = train_df['tweetBR'].apply(clean)\n",
        "\n",
        "train_df['tweetBR']"
      ]
    },
    {
      "cell_type": "code",
      "execution_count": null,
      "metadata": {
        "id": "Z_CDy0_gzSCQ"
      },
      "outputs": [],
      "source": [
        "train_df['tweetBR']\n",
        "\n",
        "train_df.to_csv('clean_df.csv')"
      ]
    },
    {
      "cell_type": "code",
      "execution_count": null,
      "metadata": {
        "colab": {
          "base_uri": "https://localhost:8080/"
        },
        "id": "-FhQ4EGbTmW4",
        "outputId": "317a6c8f-725f-42cb-a250-462b6925f649"
      },
      "outputs": [
        {
          "name": "stdout",
          "output_type": "stream",
          "text": [
            "31\n",
            "0\n"
          ]
        }
      ],
      "source": [
        "print(train_df.tweetBR.duplicated().sum())\n",
        "\n",
        "train_df.drop_duplicates(subset=['tweetBR'], inplace=True)\n",
        "\n",
        "print(train_df.tweetBR.duplicated().sum())\n",
        "\n"
      ]
    },
    {
      "cell_type": "code",
      "execution_count": null,
      "metadata": {
        "colab": {
          "base_uri": "https://localhost:8080/"
        },
        "id": "AgwkFQavVncW",
        "outputId": "c0821b4a-b9a2-444f-f78c-38ef25df672c"
      },
      "outputs": [
        {
          "name": "stdout",
          "output_type": "stream",
          "text": [
            "1770\n",
            "1723\n"
          ]
        }
      ],
      "source": [
        "no_of_fakes = train_df.loc[train_df['class'] == 0].count()[0]\n",
        "no_of_trues = train_df.loc[train_df['class'] == 1].count()[0]\n",
        "\n",
        "print(no_of_fakes)\n",
        "print(no_of_trues)"
      ]
    },
    {
      "cell_type": "code",
      "execution_count": null,
      "metadata": {
        "colab": {
          "base_uri": "https://localhost:8080/",
          "height": 589
        },
        "id": "4R4TdUjHtAV5",
        "outputId": "6293eba2-72ab-4743-c77a-0a9776d184aa"
      },
      "outputs": [
        {
          "data": {
            "text/html": [
              "<div>\n",
              "<style scoped>\n",
              "    .dataframe tbody tr th:only-of-type {\n",
              "        vertical-align: middle;\n",
              "    }\n",
              "\n",
              "    .dataframe tbody tr th {\n",
              "        vertical-align: top;\n",
              "    }\n",
              "\n",
              "    .dataframe thead th {\n",
              "        text-align: right;\n",
              "    }\n",
              "</style>\n",
              "<table border=\"1\" class=\"dataframe\">\n",
              "  <thead>\n",
              "    <tr style=\"text-align: right;\">\n",
              "      <th></th>\n",
              "      <th>tweetOG</th>\n",
              "      <th>tweetBR</th>\n",
              "      <th>class</th>\n",
              "    </tr>\n",
              "  </thead>\n",
              "  <tbody>\n",
              "    <tr>\n",
              "      <th>0</th>\n",
              "      <td>Facebook posts shared in at least three countr...</td>\n",
              "      <td>postagens facebook compartilhadas menos três p...</td>\n",
              "      <td>0</td>\n",
              "    </tr>\n",
              "    <tr>\n",
              "      <th>1</th>\n",
              "      <td>Wisconsin is Òclearly seeing a decline in COVI...</td>\n",
              "      <td>wisconsin vendo declínio covid infectionó</td>\n",
              "      <td>0</td>\n",
              "    </tr>\n",
              "    <tr>\n",
              "      <th>2</th>\n",
              "      <td>Facebook posts claim a child who is infected w...</td>\n",
              "      <td>postagens facebook reivindicam criança infecta...</td>\n",
              "      <td>0</td>\n",
              "    </tr>\n",
              "    <tr>\n",
              "      <th>3</th>\n",
              "      <td>IndiaÕs Ministry of Home Affairs banning citiz...</td>\n",
              "      <td>índia ministério assuntos internos proíbem cid...</td>\n",
              "      <td>0</td>\n",
              "    </tr>\n",
              "    <tr>\n",
              "      <th>4</th>\n",
              "      <td>42 Democratic senators, plus two Independents,...</td>\n",
              "      <td>senadores democráticos dois independentes vota...</td>\n",
              "      <td>0</td>\n",
              "    </tr>\n",
              "    <tr>\n",
              "      <th>...</th>\n",
              "      <td>...</td>\n",
              "      <td>...</td>\n",
              "      <td>...</td>\n",
              "    </tr>\n",
              "    <tr>\n",
              "      <th>3519</th>\n",
              "      <td>Another cure for COVID- must watch! https://t....</td>\n",
              "      <td>outra cura covid deve assistir</td>\n",
              "      <td>0</td>\n",
              "    </tr>\n",
              "    <tr>\n",
              "      <th>3520</th>\n",
              "      <td>And gives billions to Bill Gates and GAVI for ...</td>\n",
              "      <td>dá bilhões bill gates gavi tiro covid esterili...</td>\n",
              "      <td>0</td>\n",
              "    </tr>\n",
              "    <tr>\n",
              "      <th>3521</th>\n",
              "      <td>.@LionHea31111776 This entire covid melodrama ...</td>\n",
              "      <td>lionhea todo melodrama covid artificialmente i...</td>\n",
              "      <td>0</td>\n",
              "    </tr>\n",
              "    <tr>\n",
              "      <th>3522</th>\n",
              "      <td>Bill Gates never wears a mask and takes big be...</td>\n",
              "      <td>bill gates nunca usa máscara leva grandes bene...</td>\n",
              "      <td>0</td>\n",
              "    </tr>\n",
              "    <tr>\n",
              "      <th>3523</th>\n",
              "      <td>Doctor Finds Cure to COVID-19 (without Vaccine...</td>\n",
              "      <td>médico encontra cura covid vacina via</td>\n",
              "      <td>0</td>\n",
              "    </tr>\n",
              "  </tbody>\n",
              "</table>\n",
              "<p>3493 rows × 3 columns</p>\n",
              "</div>"
            ],
            "text/plain": [
              "                                                tweetOG  ... class\n",
              "0     Facebook posts shared in at least three countr...  ...     0\n",
              "1     Wisconsin is Òclearly seeing a decline in COVI...  ...     0\n",
              "2     Facebook posts claim a child who is infected w...  ...     0\n",
              "3     IndiaÕs Ministry of Home Affairs banning citiz...  ...     0\n",
              "4     42 Democratic senators, plus two Independents,...  ...     0\n",
              "...                                                 ...  ...   ...\n",
              "3519  Another cure for COVID- must watch! https://t....  ...     0\n",
              "3520  And gives billions to Bill Gates and GAVI for ...  ...     0\n",
              "3521  .@LionHea31111776 This entire covid melodrama ...  ...     0\n",
              "3522  Bill Gates never wears a mask and takes big be...  ...     0\n",
              "3523  Doctor Finds Cure to COVID-19 (without Vaccine...  ...     0\n",
              "\n",
              "[3493 rows x 3 columns]"
            ]
          },
          "execution_count": 13,
          "metadata": {},
          "output_type": "execute_result"
        }
      ],
      "source": [
        "train_df"
      ]
    },
    {
      "cell_type": "code",
      "execution_count": null,
      "metadata": {
        "id": "zlx64GxJ5R67"
      },
      "outputs": [],
      "source": [
        "X = train_df['tweetBR']\n",
        "y = train_df['class']"
      ]
    },
    {
      "cell_type": "code",
      "execution_count": null,
      "metadata": {
        "id": "4b6XeWZMt4cj"
      },
      "outputs": [],
      "source": [
        "X_train, X_test, y_train, y_test = train_test_split(X, y, shuffle=True, test_size=0.2, random_state=11)"
      ]
    },
    {
      "cell_type": "code",
      "execution_count": null,
      "metadata": {
        "colab": {
          "base_uri": "https://localhost:8080/"
        },
        "id": "uTQLlRs0ete6",
        "outputId": "fb25f44e-01ab-4e10-80c9-42e1a50149af"
      },
      "outputs": [
        {
          "data": {
            "text/plain": [
              "1890    usuários medicamento pressão arterial têm risc...\n",
              "1234    casos aumentam europa onde restrições facilitadas\n",
              "1662    sintoma perfis amostra conveniência pacientes ...\n",
              "469     óamerica sido vacinante gado coronavírus anos ...\n",
              "630     dolores cahill afirma entrevista sobre highwir...\n",
              "                              ...                        \n",
              "1307    autoridades saúde sc dizem usam trabalhos másc...\n",
              "3440    covid mentira vestindo máscara trabalho diabo ...\n",
              "3194    acorde pessoas foda teórico conspiração execut...\n",
              "1118                quais complicações neurológicas covid\n",
              "1959    estudo identifica drogas existentes podem ajud...\n",
              "Name: tweetBR, Length: 2794, dtype: object"
            ]
          },
          "execution_count": 16,
          "metadata": {},
          "output_type": "execute_result"
        }
      ],
      "source": [
        "X_train"
      ]
    },
    {
      "cell_type": "code",
      "execution_count": null,
      "metadata": {
        "colab": {
          "base_uri": "https://localhost:8080/"
        },
        "id": "1G6BKvBT6rIF",
        "outputId": "32bcb71f-4409-4456-a0cb-6de0ac8aecbf"
      },
      "outputs": [
        {
          "data": {
            "text/plain": [
              "array([[0, 0, 0, ..., 0, 0, 0],\n",
              "       [0, 0, 0, ..., 0, 0, 0],\n",
              "       [0, 0, 0, ..., 0, 0, 0],\n",
              "       ...,\n",
              "       [0, 0, 0, ..., 0, 0, 0],\n",
              "       [0, 0, 0, ..., 0, 0, 0],\n",
              "       [0, 0, 0, ..., 0, 0, 0]])"
            ]
          },
          "execution_count": 17,
          "metadata": {},
          "output_type": "execute_result"
        }
      ],
      "source": [
        "vectorizer = CountVectorizer()\n",
        "X_train = vectorizer.fit_transform(X_train)\n",
        "array = X_train.toarray()\n",
        "array"
      ]
    },
    {
      "cell_type": "code",
      "execution_count": null,
      "metadata": {
        "colab": {
          "base_uri": "https://localhost:8080/"
        },
        "id": "3JwWjUZpebUF",
        "outputId": "23ed07b0-8bcf-46bf-8cc8-25334b98f826"
      },
      "outputs": [
        {
          "data": {
            "text/plain": [
              "MultinomialNB(alpha=1.0, class_prior=None, fit_prior=True)"
            ]
          },
          "execution_count": 18,
          "metadata": {},
          "output_type": "execute_result"
        }
      ],
      "source": [
        "clf = MultinomialNB()\n",
        "clf.fit(X_train, y_train)"
      ]
    },
    {
      "cell_type": "code",
      "execution_count": null,
      "metadata": {
        "colab": {
          "base_uri": "https://localhost:8080/"
        },
        "id": "MeEhokPRqmVX",
        "outputId": "edc85c15-8d68-440f-ea98-1eec0c056cfa"
      },
      "outputs": [
        {
          "data": {
            "text/plain": [
              "<699x7035 sparse matrix of type '<class 'numpy.int64'>'\n",
              "\twith 4802 stored elements in Compressed Sparse Row format>"
            ]
          },
          "execution_count": 19,
          "metadata": {},
          "output_type": "execute_result"
        }
      ],
      "source": [
        "X_test = vectorizer.transform(X_test)\n",
        "X_test"
      ]
    },
    {
      "cell_type": "code",
      "execution_count": null,
      "metadata": {
        "colab": {
          "base_uri": "https://localhost:8080/"
        },
        "id": "BvT5QSUj6uz9",
        "outputId": "da22a7dd-233b-492d-fe34-5266ccc84839"
      },
      "outputs": [
        {
          "name": "stdout",
          "output_type": "stream",
          "text": [
            "0.9606299212598425\n",
            "0.8669527896995708\n"
          ]
        }
      ],
      "source": [
        "print(clf.score(X_train, y_train))\n",
        "print(clf.score(X_test, y_test))"
      ]
    },
    {
      "cell_type": "code",
      "execution_count": null,
      "metadata": {
        "colab": {
          "base_uri": "https://localhost:8080/"
        },
        "id": "Tx2cVIfD634c",
        "outputId": "7e17291b-1648-41d4-ae16-b1ad55b25c0c"
      },
      "outputs": [
        {
          "data": {
            "text/plain": [
              "array([1, 1, 1, 0, 0, 1, 0, 0, 0, 0, 0, 0, 1, 0, 1, 1, 1, 0, 0, 1, 0, 1,\n",
              "       0, 1, 0, 0, 0, 0, 0, 1, 0, 0, 1, 0, 0, 0, 1, 1, 0, 0, 0, 0, 0, 0,\n",
              "       1, 0, 1, 0, 0, 1, 1, 1, 1, 0, 1, 1, 0, 1, 0, 1, 0, 1, 0, 0, 0, 0,\n",
              "       0, 1, 1, 1, 0, 1, 1, 0, 0, 1, 1, 1, 0, 0, 1, 0, 0, 1, 0, 1, 0, 1,\n",
              "       1, 0, 0, 1, 0, 1, 0, 1, 0, 1, 1, 1, 0, 0, 0, 0, 1, 1, 1, 1, 0, 1,\n",
              "       1, 0, 1, 1, 1, 0, 1, 1, 0, 0, 1, 0, 1, 1, 0, 0, 1, 0, 1, 1, 0, 0,\n",
              "       1, 0, 0, 1, 1, 0, 0, 0, 1, 1, 1, 0, 0, 0, 1, 0, 1, 0, 1, 0, 0, 0,\n",
              "       0, 1, 0, 0, 0, 0, 0, 1, 1, 0, 1, 0, 1, 0, 1, 1, 0, 0, 1, 0, 0, 0,\n",
              "       0, 0, 0, 0, 0, 0, 1, 1, 1, 0, 0, 1, 1, 1, 1, 1, 1, 0, 0, 1, 0, 0,\n",
              "       0, 0, 0, 0, 0, 0, 1, 1, 1, 0, 0, 0, 1, 1, 1, 1, 0, 1, 0, 1, 0, 1,\n",
              "       1, 0, 1, 0, 0, 0, 0, 1, 0, 1, 1, 1, 0, 1, 0, 1, 0, 0, 0, 1, 1, 1,\n",
              "       0, 1, 0, 1, 0, 1, 0, 1, 0, 0, 0, 0, 0, 0, 1, 0, 0, 1, 1, 1, 1, 0,\n",
              "       0, 0, 0, 0, 0, 1, 0, 0, 0, 1, 1, 0, 0, 1, 0, 0, 1, 1, 1, 0, 1, 1,\n",
              "       0, 1, 0, 0, 0, 1, 1, 0, 0, 1, 0, 1, 1, 0, 1, 0, 1, 1, 0, 1, 0, 0,\n",
              "       0, 0, 0, 0, 0, 0, 0, 0, 0, 1, 0, 0, 0, 0, 0, 1, 0, 1, 0, 0, 1, 0,\n",
              "       1, 1, 1, 1, 0, 1, 0, 0, 1, 0, 0, 0, 0, 1, 0, 0, 1, 0, 0, 1, 1, 0,\n",
              "       1, 1, 1, 0, 0, 1, 1, 0, 1, 1, 0, 0, 1, 0, 0, 0, 0, 0, 1, 1, 0, 0,\n",
              "       0, 1, 0, 0, 1, 0, 1, 1, 0, 0, 1, 1, 1, 1, 0, 1, 1, 0, 0, 0, 1, 0,\n",
              "       0, 1, 0, 1, 0, 1, 0, 1, 1, 1, 1, 0, 1, 1, 0, 1, 0, 1, 0, 1, 1, 0,\n",
              "       0, 1, 0, 0, 1, 0, 1, 0, 1, 0, 1, 1, 1, 1, 0, 0, 0, 1, 1, 1, 1, 0,\n",
              "       1, 1, 1, 1, 0, 0, 0, 0, 0, 0, 1, 1, 1, 0, 1, 1, 1, 1, 0, 1, 0, 1,\n",
              "       0, 1, 1, 0, 0, 1, 0, 0, 1, 0, 1, 1, 0, 1, 0, 0, 0, 0, 1, 1, 0, 1,\n",
              "       1, 0, 0, 1, 1, 0, 1, 1, 0, 1, 1, 0, 0, 0, 0, 0, 1, 0, 1, 0, 1, 0,\n",
              "       1, 1, 1, 1, 0, 1, 1, 1, 1, 1, 1, 0, 1, 0, 1, 1, 0, 0, 0, 0, 0, 0,\n",
              "       1, 0, 0, 0, 1, 0, 0, 1, 1, 1, 0, 0, 1, 1, 1, 1, 0, 0, 0, 0, 0, 1,\n",
              "       1, 0, 0, 1, 1, 0, 1, 0, 0, 1, 0, 0, 0, 1, 0, 0, 0, 0, 0, 0, 0, 0,\n",
              "       1, 0, 1, 1, 0, 1, 1, 1, 1, 1, 0, 0, 1, 1, 1, 1, 1, 0, 1, 1, 0, 1,\n",
              "       0, 0, 1, 1, 0, 0, 1, 1, 1, 1, 0, 1, 1, 1, 0, 1, 1, 0, 0, 0, 0, 1,\n",
              "       1, 0, 0, 0, 1, 0, 0, 0, 0, 0, 1, 1, 1, 0, 0, 1, 0, 1, 0, 1, 1, 0,\n",
              "       0, 1, 1, 1, 0, 0, 0, 1, 0, 0, 0, 0, 1, 0, 1, 1, 0, 0, 1, 0, 0, 1,\n",
              "       1, 0, 0, 1, 1, 0, 0, 0, 1, 1, 0, 1, 0, 0, 1, 0, 0, 0, 1, 1, 1, 0,\n",
              "       1, 1, 0, 0, 1, 1, 1, 0, 0, 0, 0, 0, 0, 0, 1, 0, 0])"
            ]
          },
          "execution_count": 21,
          "metadata": {},
          "output_type": "execute_result"
        }
      ],
      "source": [
        "predictions = clf.predict(X_test)\n",
        "predictions"
      ]
    },
    {
      "cell_type": "code",
      "execution_count": null,
      "metadata": {
        "colab": {
          "base_uri": "https://localhost:8080/"
        },
        "id": "K22GzZq47DZ_",
        "outputId": "98c960e2-f7d5-4a14-8057-ee88dc5a15a9"
      },
      "outputs": [
        {
          "data": {
            "text/plain": [
              "array([[322,  38],\n",
              "       [ 55, 284]])"
            ]
          },
          "execution_count": 22,
          "metadata": {},
          "output_type": "execute_result"
        }
      ],
      "source": [
        "cm = confusion_matrix(y_test, predictions)\n",
        "cm"
      ]
    },
    {
      "cell_type": "code",
      "execution_count": null,
      "metadata": {
        "colab": {
          "base_uri": "https://localhost:8080/",
          "height": 388
        },
        "id": "zUbMS1h47JPJ",
        "outputId": "c5f2b73b-127e-4544-ce2c-60fba27e918e"
      },
      "outputs": [
        {
          "data": {
            "image/png": "[encoded data removed]",
            "text/plain": [
              "<Figure size 432x432 with 1 Axes>"
            ]
          },
          "metadata": {
            "needs_background": "light"
          },
          "output_type": "display_data"
        }
      ],
      "source": [
        "plt.figure(figsize=(6,6))\n",
        "sns.heatmap(cm, annot=True, fmt='d', xticklabels=['FAKE', 'TRUE'], yticklabels=['FAKE', 'TRUE'], cmap=plt.cm.Blues, cbar=False)\n",
        "plt.xlabel('Predicted Label')\n",
        "plt.ylabel('True Label')\n",
        "plt.show()"
      ]
    },
    {
      "cell_type": "code",
      "execution_count": null,
      "metadata": {
        "colab": {
          "base_uri": "https://localhost:8080/"
        },
        "id": "OA3TPUvTa9cJ",
        "outputId": "e2ebf54d-ab9e-46f3-c887-565f2730bef8"
      },
      "outputs": [
        {
          "name": "stdout",
          "output_type": "stream",
          "text": [
            "0.8669527896995708\n",
            "              precision    recall  f1-score   support\n",
            "\n",
            "           0       0.85      0.89      0.87       360\n",
            "           1       0.88      0.84      0.86       339\n",
            "\n",
            "    accuracy                           0.87       699\n",
            "   macro avg       0.87      0.87      0.87       699\n",
            "weighted avg       0.87      0.87      0.87       699\n",
            "\n"
          ]
        }
      ],
      "source": [
        "result = clf.predict(X_test)\n",
        "\n",
        "print(accuracy_score(y_test, result))\n",
        "\n",
        "print (classification_report(y_test, result))"
      ]
    },
    {
      "cell_type": "code",
      "execution_count": null,
      "metadata": {
        "colab": {
          "base_uri": "https://localhost:8080/"
        },
        "id": "4lvCgS6MNWhy",
        "outputId": "6bff9162-781b-422b-f48c-baa4dbc019d3"
      },
      "outputs": [
        {
          "name": "stdout",
          "output_type": "stream",
          "text": [
            "0\n"
          ]
        }
      ],
      "source": [
        "#Exemplo de um tweet classificado como fake news\n",
        "testSentence = \"@DrJohnB2 Meu Deus... mais um elemento além das substâncias das w4cin4s. Óleo de silicone nas seringas. @SF_Moro @mariosabinof @DanielaLima_ @renataagostini @fabiarichter @GiselaSavioli @biodireito @consumidor_gov @JusticaGovBR PROCON? @JanainaDoBrasil @deltanmd @alexandregarcia\"\n",
        "\n",
        "testSentence = clean(testSentence)\n",
        "vectorizedSentence = vectorizer.transform([testSentence]).toarray()\n",
        "result = clf.predict(vectorizedSentence)\n",
        "\n",
        "print(result[0])"
      ]
    },
    {
      "cell_type": "code",
      "execution_count": null,
      "metadata": {
        "id": "G7d4FBx_KGHH"
      },
      "outputs": [],
      "source": [
        "def predict_tweet(tweet):\n",
        "\n",
        "  cleanTweetText = clean(tweet)\n",
        "  vectorizedSentence = vectorizer.transform([cleanTweetText]).toarray()\n",
        "  prediction = clf.predict(vectorizedSentence)\n",
        "  \n",
        "  if prediction[0] == 0:\n",
        "    label = 'Fake'\n",
        "    labelPredict = clf.predict_proba(vectorizedSentence)[:,0][0]\n",
        "  else:\n",
        "    label = 'True'\n",
        "    labelPredict = clf.predict_proba(vectorizedSentence)[:,1][0]\n",
        "\n",
        "  return label, labelPredict"
      ]
    },
    {
      "cell_type": "code",
      "execution_count": null,
      "metadata": {
        "id": "AjZoW_eANWq-"
      },
      "outputs": [],
      "source": [
        "tweets_df = pd.read_csv('tweets.csv')\n",
        "\n",
        "classification_array = []\n",
        "confidence_array = []\n",
        "\n",
        "for index, row in tweets_df.iterrows():\n",
        "    classification, confidence = predict_tweet(row['tweet'])\n",
        "    classification_array.append(classification)\n",
        "    confidence_array.append(confidence)\n",
        "\n",
        "\n",
        "df_predictions = pd.DataFrame({'tweet': tweets_df['tweet'], 'classification': classification_array, 'confidence':  confidence_array})"
      ]
    },
    {
      "cell_type": "code",
      "execution_count": null,
      "metadata": {
        "colab": {
          "base_uri": "https://localhost:8080/",
          "height": 912
        },
        "id": "4r21KKzLeG3d",
        "outputId": "bbc4b34f-00c6-4be5-8ce1-81c3f3fee62b"
      },
      "outputs": [
        {
          "data": {
            "text/html": [
              "<div>\n",
              "<style scoped>\n",
              "    .dataframe tbody tr th:only-of-type {\n",
              "        vertical-align: middle;\n",
              "    }\n",
              "\n",
              "    .dataframe tbody tr th {\n",
              "        vertical-align: top;\n",
              "    }\n",
              "\n",
              "    .dataframe thead th {\n",
              "        text-align: right;\n",
              "    }\n",
              "</style>\n",
              "<table border=\"1\" class=\"dataframe\">\n",
              "  <thead>\n",
              "    <tr style=\"text-align: right;\">\n",
              "      <th></th>\n",
              "      <th>tweet</th>\n",
              "      <th>classification</th>\n",
              "      <th>confidence</th>\n",
              "    </tr>\n",
              "  </thead>\n",
              "  <tbody>\n",
              "    <tr>\n",
              "      <th>0</th>\n",
              "      <td>devia ter feito essa plaquinha https://t.co/ojpyvRWbCn</td>\n",
              "      <td>Fake</td>\n",
              "      <td>0.900187</td>\n",
              "    </tr>\n",
              "    <tr>\n",
              "      <th>1</th>\n",
              "      <td>@acmacedo @onyxlorenzoni Deixa eu ver se entendi:\\nA vacina não serve para prevenir o contágio ,serve para evitar a forma grave da doença certo!? Se ela não evita o contágio significa que mesmo vacinado ou não vai pegar COVID! Então qual o intuito de obrigar o cara a tomar?</td>\n",
              "      <td>Fake</td>\n",
              "      <td>0.984529</td>\n",
              "    </tr>\n",
              "    <tr>\n",
              "      <th>2</th>\n",
              "      <td>@DrJohnB2 Meu Deus... mais um elemento além das substâncias das w4cin4s. Óleo de silicone nas seringas. @SF_Moro @mariosabinof @DanielaLima_ @renataagostini @fabiarichter @GiselaSavioli @biodireito @consumidor_gov @JusticaGovBR PROCON? @JanainaDoBrasil @deltanmd @alexandregarcia</td>\n",
              "      <td>Fake</td>\n",
              "      <td>0.990380</td>\n",
              "    </tr>\n",
              "    <tr>\n",
              "      <th>3</th>\n",
              "      <td>RT @gugachacra: Ele diz que não se vacinou contra a Covid19. Mas está cada vez mais claro que tomou. Bobeando, tomou até a dose adicional.…</td>\n",
              "      <td>Fake</td>\n",
              "      <td>0.993581</td>\n",
              "    </tr>\n",
              "    <tr>\n",
              "      <th>4</th>\n",
              "      <td>RT @revistaoeste: Bolsonaro proíbe demissão de quem decidir não tomar vacina https://t.co/MNOO0cMVfR</td>\n",
              "      <td>True</td>\n",
              "      <td>0.757247</td>\n",
              "    </tr>\n",
              "    <tr>\n",
              "      <th>...</th>\n",
              "      <td>...</td>\n",
              "      <td>...</td>\n",
              "      <td>...</td>\n",
              "    </tr>\n",
              "    <tr>\n",
              "      <th>1669</th>\n",
              "      <td>RT @giga_beta: E as armas? \\nHomeschooling? \\nAi não se aplica né?</td>\n",
              "      <td>True</td>\n",
              "      <td>0.650870</td>\n",
              "    </tr>\n",
              "    <tr>\n",
              "      <th>1670</th>\n",
              "      <td>RT @mitags: Até hoje Amanda não “quer entender” que Bolsonaro só comprou vacinas quando autorizado pelo Congresso.Não duvido que,se houvess…</td>\n",
              "      <td>Fake</td>\n",
              "      <td>0.961783</td>\n",
              "    </tr>\n",
              "    <tr>\n",
              "      <th>1671</th>\n",
              "      <td>RT @slpng_giants_pt: 🚨Onyx Lorenzoni censura empresas de exigirem vacinação dos empregados\\n\\nO governo quer retirar a liberdade dos empresár…</td>\n",
              "      <td>Fake</td>\n",
              "      <td>0.962103</td>\n",
              "    </tr>\n",
              "    <tr>\n",
              "      <th>1672</th>\n",
              "      <td>@rmtakata Acontece em r-ns intersexo por genitália ambígua (padrão não-binário).\\n\\nEx.: na condição genética XXY &amp;gt;q é descrita p meninos&amp;lt; muitos assintomáticos têm sido transformados em genitália feminina ao nascer. \\n\\nA criança trans compulsória apenas descobre depois d adulta no cariótipo.</td>\n",
              "      <td>Fake</td>\n",
              "      <td>0.974772</td>\n",
              "    </tr>\n",
              "    <tr>\n",
              "      <th>1673</th>\n",
              "      <td>RT @secomvc: 🚨🚨🚨🚨🚨 Governo do Brasil edita portaria CONTRA DEMISSÕES DE TRABALHADORES QUE OPTEM POR NÃO SE VACINAR CONTRA A COVID.\\n\\nA exigê…</td>\n",
              "      <td>Fake</td>\n",
              "      <td>0.805070</td>\n",
              "    </tr>\n",
              "  </tbody>\n",
              "</table>\n",
              "<p>1674 rows × 3 columns</p>\n",
              "</div>"
            ],
            "text/plain": [
              "                                                                                                                                                                                                                                                                                                             tweet classification  confidence\n",
              "0                                                                                                                                                                                                                                                           devia ter feito essa plaquinha https://t.co/ojpyvRWbCn           Fake    0.900187\n",
              "1                               @acmacedo @onyxlorenzoni Deixa eu ver se entendi:\\nA vacina não serve para prevenir o contágio ,serve para evitar a forma grave da doença certo!? Se ela não evita o contágio significa que mesmo vacinado ou não vai pegar COVID! Então qual o intuito de obrigar o cara a tomar?           Fake    0.984529\n",
              "2                          @DrJohnB2 Meu Deus... mais um elemento além das substâncias das w4cin4s. Óleo de silicone nas seringas. @SF_Moro @mariosabinof @DanielaLima_ @renataagostini @fabiarichter @GiselaSavioli @biodireito @consumidor_gov @JusticaGovBR PROCON? @JanainaDoBrasil @deltanmd @alexandregarcia           Fake    0.990380\n",
              "3                                                                                                                                                                      RT @gugachacra: Ele diz que não se vacinou contra a Covid19. Mas está cada vez mais claro que tomou. Bobeando, tomou até a dose adicional.…           Fake    0.993581\n",
              "4                                                                                                                                                                                                             RT @revistaoeste: Bolsonaro proíbe demissão de quem decidir não tomar vacina https://t.co/MNOO0cMVfR           True    0.757247\n",
              "...                                                                                                                                                                                                                                                                                                            ...            ...         ...\n",
              "1669                                                                                                                                                                                                                                            RT @giga_beta: E as armas? \\nHomeschooling? \\nAi não se aplica né?           True    0.650870\n",
              "1670                                                                                                                                                                  RT @mitags: Até hoje Amanda não “quer entender” que Bolsonaro só comprou vacinas quando autorizado pelo Congresso.Não duvido que,se houvess…           Fake    0.961783\n",
              "1671                                                                                                                                                                RT @slpng_giants_pt: 🚨Onyx Lorenzoni censura empresas de exigirem vacinação dos empregados\\n\\nO governo quer retirar a liberdade dos empresár…           Fake    0.962103\n",
              "1672  @rmtakata Acontece em r-ns intersexo por genitália ambígua (padrão não-binário).\\n\\nEx.: na condição genética XXY &gt;q é descrita p meninos&lt; muitos assintomáticos têm sido transformados em genitália feminina ao nascer. \\n\\nA criança trans compulsória apenas descobre depois d adulta no cariótipo.           Fake    0.974772\n",
              "1673                                                                                                                                                                RT @secomvc: 🚨🚨🚨🚨🚨 Governo do Brasil edita portaria CONTRA DEMISSÕES DE TRABALHADORES QUE OPTEM POR NÃO SE VACINAR CONTRA A COVID.\\n\\nA exigê…           Fake    0.805070\n",
              "\n",
              "[1674 rows x 3 columns]"
            ]
          },
          "execution_count": 32,
          "metadata": {},
          "output_type": "execute_result"
        }
      ],
      "source": [
        "pd.set_option('display.max_columns', None)\n",
        "pd.set_option('display.expand_frame_repr', False)\n",
        "pd.set_option('max_colwidth', None)\n",
        "\n",
        "df_predictions ##before"
      ]
    },
    {
      "cell_type": "code",
      "execution_count": null,
      "metadata": {
        "id": "2AJHSqe2ee6R"
      },
      "outputs": [],
      "source": [
        "df = df_predictions.loc[df_predictions['classification'] == 'Fake']\n",
        "df['tweet']\n",
        "\n",
        "def get_top_n_words(corpus, n=None):\n",
        "  vec2 = CountVectorizer().fit(corpus)\n",
        "  bag_of_words = vec2.transform(corpus)\n",
        "  sum_words = bag_of_words.sum(axis=0)\n",
        "  words_freq = [(word, sum_words[0, idx]) for word, idx in vec2.vocabulary_.items()]\n",
        "  words_freq =sorted(words_freq, key = lambda x: x[1], reverse=True)\n",
        "  return words_freq[:n]\n"
      ]
    },
    {
      "cell_type": "code",
      "execution_count": null,
      "metadata": {
        "colab": {
          "base_uri": "https://localhost:8080/"
        },
        "id": "Hf3Nvw55gL3X",
        "outputId": "78cddf3c-8d77-4705-b3b7-6d4ffb23b012"
      },
      "outputs": [
        {
          "name": "stdout",
          "output_type": "stream",
          "text": [
            "de 779\n",
            "rt 658\n",
            "que 590\n",
            "não 456\n",
            "da 349\n",
            "https 291\n",
            "co 287\n",
            "por 279\n",
            "pandemia 273\n",
            "se 258\n",
            "do 256\n",
            "covid 253\n",
            "eu 242\n",
            "em 233\n",
            "no 188\n",
            "pessoas 188\n",
            "vacina 178\n",
            "governo 176\n",
            "as 175\n",
            "na 167\n",
            "com 162\n",
            "mais 157\n",
            "uma 128\n",
            "um 127\n",
            "como 126\n",
            "máscara 121\n",
            "casa 120\n",
            "mas 119\n",
            "pra 110\n",
            "19 110\n",
            "tudo 108\n",
            "brasil 105\n",
            "só 101\n",
            "contra 99\n",
            "muito 94\n",
            "milhões 93\n",
            "gente 90\n",
            "já 89\n",
            "para 88\n",
            "terrorismo 86\n",
            "os 82\n",
            "vacinação 81\n",
            "600 81\n",
            "tem 75\n",
            "hoje 75\n",
            "ele 74\n",
            "federal 74\n",
            "me 72\n",
            "vai 71\n",
            "existe 71\n"
          ]
        }
      ],
      "source": [
        "df['tweet']\n",
        "\n",
        "common_words = get_top_n_words(df['tweet'], 50)\n",
        "for word, freq in common_words:\n",
        "  print(word, freq)"
      ]
    },
    {
      "cell_type": "code",
      "execution_count": null,
      "metadata": {
        "colab": {
          "base_uri": "https://localhost:8080/"
        },
        "id": "O6wopQL8crfT",
        "outputId": "64470888-9d00-41f4-92dc-b273cac4e7ab"
      },
      "outputs": [
        {
          "name": "stdout",
          "output_type": "stream",
          "text": [
            "1241\n",
            "433\n"
          ]
        }
      ],
      "source": [
        "no_of_fakes = dfPredictions.loc[dfPredictions['classification'] == 'Fake'].count()[0]\n",
        "no_of_trues = dfPredictions.loc[dfPredictions['classification'] == 'True'].count()[0]\n",
        "\n",
        "print(no_of_fakes)\n",
        "print(no_of_trues)"
      ]
    }
  ],
  "metadata": {
    "colab": {
      "collapsed_sections": [],
      "name": "new dataset_tweetFakeNewsMNB.ipynb",
      "provenance": []
    },
    "kernelspec": {
      "display_name": "Python 3",
      "name": "python3"
    },
    "language_info": {
      "name": "python"
    }
  },
  "nbformat": 4,
  "nbformat_minor": 0
}