{
 "cells": [
  {
   "cell_type": "code",
   "execution_count": 15,
   "id": "3da3cd3c",
   "metadata": {
    "collapsed": true
   },
   "outputs": [
    {
     "name": "stdout",
     "output_type": "stream",
     "text": [
      "Defaulting to user installation because normal site-packages is not writeable\n",
      "Collecting pandas\n",
      "  Downloading pandas-1.3.4-cp38-cp38-macosx_10_9_x86_64.whl (11.4 MB)\n",
      "     |████████████████████████████████| 11.4 MB 6.9 MB/s            \n",
      "\u001b[?25hCollecting pytz>=2017.3\n",
      "  Downloading pytz-2021.3-py2.py3-none-any.whl (503 kB)\n",
      "     |████████████████████████████████| 503 kB 4.6 MB/s            \n",
      "\u001b[?25hCollecting numpy>=1.17.3\n",
      "  Downloading numpy-1.21.3-cp38-cp38-macosx_10_9_x86_64.whl (16.9 MB)\n",
      "     |████████████████████████████████| 16.9 MB 6.9 MB/s            \n",
      "\u001b[?25hRequirement already satisfied: python-dateutil>=2.7.3 in /Users/brunogois/Library/Python/3.8/lib/python/site-packages (from pandas) (2.8.2)\n",
      "Requirement already satisfied: six>=1.5 in /Library/Developer/CommandLineTools/Library/Frameworks/Python3.framework/Versions/3.8/lib/python3.8/site-packages (from python-dateutil>=2.7.3->pandas) (1.15.0)\n",
      "Installing collected packages: pytz, numpy, pandas\n",
      "\u001b[33m  WARNING: The scripts f2py, f2py3 and f2py3.8 are installed in '/Users/brunogois/Library/Python/3.8/bin' which is not on PATH.\n",
      "  Consider adding this directory to PATH or, if you prefer to suppress this warning, use --no-warn-script-location.\u001b[0m\n",
      "Successfully installed numpy-1.21.3 pandas-1.3.4 pytz-2021.3\n",
      "zsh:1: command not found: pip\n",
      "Note: you may need to restart the kernel to use updated packages.\n"
     ]
    }
   ],
   "source": [
    "pip install pandas && pip install numpy"
   ]
  },
  {
   "cell_type": "code",
   "execution_count": 11,
   "id": "8adff1bb",
   "metadata": {
    "collapsed": true
   },
   "outputs": [
    {
     "name": "stdout",
     "output_type": "stream",
     "text": [
      "Defaulting to user installation because normal site-packages is not writeable\n",
      "Requirement already satisfied: tweepy in /Users/brunogois/Library/Python/3.8/lib/python/site-packages (4.1.0)\n",
      "Requirement already satisfied: requests<3,>=2.11.1 in /Users/brunogois/Library/Python/3.8/lib/python/site-packages (from tweepy) (2.26.0)\n",
      "Requirement already satisfied: requests-oauthlib<2,>=1.0.0 in /Users/brunogois/Library/Python/3.8/lib/python/site-packages (from tweepy) (1.3.0)\n",
      "Requirement already satisfied: certifi>=2017.4.17 in /Users/brunogois/Library/Python/3.8/lib/python/site-packages (from requests<3,>=2.11.1->tweepy) (2021.10.8)\n",
      "Requirement already satisfied: idna<4,>=2.5 in /Users/brunogois/Library/Python/3.8/lib/python/site-packages (from requests<3,>=2.11.1->tweepy) (3.3)\n",
      "Requirement already satisfied: urllib3<1.27,>=1.21.1 in /Users/brunogois/Library/Python/3.8/lib/python/site-packages (from requests<3,>=2.11.1->tweepy) (1.26.7)\n",
      "Requirement already satisfied: charset-normalizer~=2.0.0 in /Users/brunogois/Library/Python/3.8/lib/python/site-packages (from requests<3,>=2.11.1->tweepy) (2.0.7)\n",
      "Requirement already satisfied: oauthlib>=3.0.0 in /Users/brunogois/Library/Python/3.8/lib/python/site-packages (from requests-oauthlib<2,>=1.0.0->tweepy) (3.1.1)\n",
      "Note: you may need to restart the kernel to use updated packages.\n"
     ]
    }
   ],
   "source": [
    "pip install tweepy"
   ]
  },
  {
   "cell_type": "code",
   "execution_count": 77,
   "id": "29f1eae8",
   "metadata": {},
   "outputs": [],
   "source": [
    "import tweepy\n",
    "\n",
    "with open('keys.txt', 'r') as tfile:\n",
    "    consumer_key = tfile.readline().strip('\\n')\n",
    "    consumer_secret = tfile.readline().strip('\\n')\n",
    "    \n",
    "auth = tweepy.AppAuthHandler(consumer_key, consumer_secret)\n",
    "          \n",
    "api = tweepy.API(auth, wait_on_rate_limit=True)"
   ]
  },
  {
   "cell_type": "code",
   "execution_count": 85,
   "id": "a2113bec",
   "metadata": {},
   "outputs": [
    {
     "name": "stdout",
     "output_type": "stream",
     "text": [
      "2021-10-25 05:11:28+00:00\n",
      "@monark Ah Monark, tem algumas mentiras que são claras e relativizar isso, é o completo absurdo. A última é uqe vac… https://t.co/KyQfD5YlJi\n",
      "2021-10-25 04:13:50+00:00\n",
      "imagina ver o presidente falar sobre vacinas que causam HIV e achar que se opor a isso tem a ver com “ditadura dos… https://t.co/RHHKj6bQuA\n",
      "2021-10-25 03:52:26+00:00\n",
      "@MarceloBGomez Não sabe o básico da Constituição brasileira.\n",
      "\n",
      "O pai fala que as vacinas causam HIV, o filho quer us… https://t.co/YbOgqF2GeB\n",
      "2021-10-25 03:43:49+00:00\n",
      "@arthurmoledoval Fake news das brabas hein?\n",
      "\n",
      "Eu não concordei com esse episódio. Discordei do Bolsonaro...\n",
      "\n",
      "PORÉM,… https://t.co/Dgz39RfL0c\n",
      "2021-10-25 03:33:37+00:00\n",
      "Acho que nunca vou entender essa lógica de 2018.\n",
      "\n",
      "\"Não dava\" pra votar num professor doutor da melhor universidade… https://t.co/FHPYMdc27Y\n",
      "2021-10-25 03:28:40+00:00\n",
      "@luizvidaum @oiwaguinho @UOLNoticias Incrível como esses relatos são propagados apenas por páginas de extrema direi… https://t.co/7rS0syx8Jo\n",
      "2021-10-25 03:27:17+00:00\n",
      "@gmmenezes @oiwaguinho @UOLNoticias Sistema?\n",
      "Amigo ele falou que vacinas causam AIDS \n",
      "Vai tomar no cu\n",
      "2021-10-25 03:04:05+00:00\n",
      "2021 pq cientistas estao tendo q explicar em detalhes q vacinas n causam aids.?\n",
      "2021-10-25 03:02:16+00:00\n",
      "@curumimhaviador @Macca29525185 @silvercm Presidente honesto que divulga que vacinas causam AIDS.\n",
      "2021-10-25 02:58:44+00:00\n",
      "@Bronson_X @antpntc @monark vc acha que o presidente pode insinuar que uma ou todas vacinas causam AIDS por um engano dele?\n"
     ]
    }
   ],
   "source": [
    "query_search = \"covid OR corona OR coronavirus OR cpi OR (vacinas causam (hiv OR aids)\" + \"-filter:retweets\"\n",
    "tweets = tweepy.Cursor(api.search_tweets,\n",
    "         q = query_search, lang=\"pt\").items(10)\n",
    "   \n",
    "for tweet in tweets:\n",
    "         print(tweet.created_at)\n",
    "         print(tweet.text)\n",
    "            print(tweet.)"
   ]
  },
  {
   "cell_type": "code",
   "execution_count": null,
   "id": "801385ea",
   "metadata": {},
   "outputs": [],
   "source": []
  }
 ],
 "metadata": {
  "kernelspec": {
   "display_name": "Python 3 (ipykernel)",
   "language": "python",
   "name": "python3"
  },
  "language_info": {
   "codemirror_mode": {
    "name": "ipython",
    "version": 3
   },
   "file_extension": ".py",
   "mimetype": "text/x-python",
   "name": "python",
   "nbconvert_exporter": "python",
   "pygments_lexer": "ipython3",
   "version": "3.8.2"
  }
 },
 "nbformat": 4,
 "nbformat_minor": 5
}
