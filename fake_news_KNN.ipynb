{
  "cells": [
    {
      "cell_type": "code",
      "execution_count": null,
      "metadata": {
        "id": "fZdqEds-TzhH"
      },
      "outputs": [],
      "source": [
        "import re\n",
        "import pandas as pd\n",
        "import numpy as np\n",
        "import matplotlib.pyplot as plt\n",
        "import seaborn as sns\n",
        "import nltk\n",
        "import csv\n",
        "from sklearn.feature_extraction.text import CountVectorizer\n",
        "from sklearn.model_selection import train_test_split\n",
        "from sklearn.metrics import confusion_matrix, accuracy_score, classification_report\n",
        "from nltk.tokenize import word_tokenize\n",
        "from nltk.corpus import stopwords\n",
        "\n",
        "#df = pd.read_csv(\"train_df_covid.csv\", sep=\";\")\n",
        "train_df = pd.read_csv(\"train_df.csv\")"
      ]
    },
    {
      "cell_type": "code",
      "execution_count": null,
      "metadata": {
        "colab": {
          "base_uri": "https://localhost:8080/",
          "height": 589
        },
        "id": "WH0Cuyx6UASW",
        "outputId": "68ec7248-658d-4d8b-fd5f-81491f00d57b"
      },
      "outputs": [
        {
          "data": {
            "text/html": [
              "<div>\n",
              "<style scoped>\n",
              "    .dataframe tbody tr th:only-of-type {\n",
              "        vertical-align: middle;\n",
              "    }\n",
              "\n",
              "    .dataframe tbody tr th {\n",
              "        vertical-align: top;\n",
              "    }\n",
              "\n",
              "    .dataframe thead th {\n",
              "        text-align: right;\n",
              "    }\n",
              "</style>\n",
              "<table border=\"1\" class=\"dataframe\">\n",
              "  <thead>\n",
              "    <tr style=\"text-align: right;\">\n",
              "      <th></th>\n",
              "      <th>tweetOG</th>\n",
              "      <th>tweetBR</th>\n",
              "      <th>class</th>\n",
              "      <th>class_knn</th>\n",
              "    </tr>\n",
              "  </thead>\n",
              "  <tbody>\n",
              "    <tr>\n",
              "      <th>0</th>\n",
              "      <td>Facebook posts shared in at least three countr...</td>\n",
              "      <td>Postagens do Facebook compartilhadas em pelo m...</td>\n",
              "      <td>0</td>\n",
              "      <td>1</td>\n",
              "    </tr>\n",
              "    <tr>\n",
              "      <th>1</th>\n",
              "      <td>Wisconsin is Òclearly seeing a decline in COVI...</td>\n",
              "      <td>Wisconsin está vendo um declínio no Covid Infe...</td>\n",
              "      <td>0</td>\n",
              "      <td>1</td>\n",
              "    </tr>\n",
              "    <tr>\n",
              "      <th>2</th>\n",
              "      <td>Facebook posts claim a child who is infected w...</td>\n",
              "      <td>Postagens do Facebook Reivindicam uma criança ...</td>\n",
              "      <td>0</td>\n",
              "      <td>1</td>\n",
              "    </tr>\n",
              "    <tr>\n",
              "      <th>3</th>\n",
              "      <td>IndiaÕs Ministry of Home Affairs banning citiz...</td>\n",
              "      <td>Índia Ministério dos Assuntos Internos que pro...</td>\n",
              "      <td>0</td>\n",
              "      <td>1</td>\n",
              "    </tr>\n",
              "    <tr>\n",
              "      <th>4</th>\n",
              "      <td>42 Democratic senators, plus two Independents,...</td>\n",
              "      <td>42 Senadores democráticos, mais dois independe...</td>\n",
              "      <td>0</td>\n",
              "      <td>1</td>\n",
              "    </tr>\n",
              "    <tr>\n",
              "      <th>...</th>\n",
              "      <td>...</td>\n",
              "      <td>...</td>\n",
              "      <td>...</td>\n",
              "      <td>...</td>\n",
              "    </tr>\n",
              "    <tr>\n",
              "      <th>3519</th>\n",
              "      <td>Another cure for COVID- must watch! https://t....</td>\n",
              "      <td>Outra cura para Covid- deve assistir! https://...</td>\n",
              "      <td>0</td>\n",
              "      <td>1</td>\n",
              "    </tr>\n",
              "    <tr>\n",
              "      <th>3520</th>\n",
              "      <td>And gives billions to Bill Gates and GAVI for ...</td>\n",
              "      <td>E dá bilhões a Bill Gates e Gavi para um tiro ...</td>\n",
              "      <td>0</td>\n",
              "      <td>1</td>\n",
              "    </tr>\n",
              "    <tr>\n",
              "      <th>3521</th>\n",
              "      <td>.@LionHea31111776 This entire covid melodrama ...</td>\n",
              "      <td>@ Lionhea31111776 Todo este melodrama Covid é ...</td>\n",
              "      <td>0</td>\n",
              "      <td>1</td>\n",
              "    </tr>\n",
              "    <tr>\n",
              "      <th>3522</th>\n",
              "      <td>Bill Gates never wears a mask and takes big be...</td>\n",
              "      <td>Bill Gates nunca usa uma máscara e leva grande...</td>\n",
              "      <td>0</td>\n",
              "      <td>1</td>\n",
              "    </tr>\n",
              "    <tr>\n",
              "      <th>3523</th>\n",
              "      <td>Doctor Finds Cure to COVID-19 (without Vaccine...</td>\n",
              "      <td>Médico encontra cura para Covid-19 (sem vacina...</td>\n",
              "      <td>0</td>\n",
              "      <td>1</td>\n",
              "    </tr>\n",
              "  </tbody>\n",
              "</table>\n",
              "<p>3524 rows × 4 columns</p>\n",
              "</div>"
            ],
            "text/plain": [
              "                                                tweetOG  ... class_knn\n",
              "0     Facebook posts shared in at least three countr...  ...         1\n",
              "1     Wisconsin is Òclearly seeing a decline in COVI...  ...         1\n",
              "2     Facebook posts claim a child who is infected w...  ...         1\n",
              "3     IndiaÕs Ministry of Home Affairs banning citiz...  ...         1\n",
              "4     42 Democratic senators, plus two Independents,...  ...         1\n",
              "...                                                 ...  ...       ...\n",
              "3519  Another cure for COVID- must watch! https://t....  ...         1\n",
              "3520  And gives billions to Bill Gates and GAVI for ...  ...         1\n",
              "3521  .@LionHea31111776 This entire covid melodrama ...  ...         1\n",
              "3522  Bill Gates never wears a mask and takes big be...  ...         1\n",
              "3523  Doctor Finds Cure to COVID-19 (without Vaccine...  ...         1\n",
              "\n",
              "[3524 rows x 4 columns]"
            ]
          },
          "execution_count": 2,
          "metadata": {},
          "output_type": "execute_result"
        }
      ],
      "source": [
        "train_df"
      ]
    },
    {
      "cell_type": "code",
      "execution_count": null,
      "metadata": {
        "colab": {
          "base_uri": "https://localhost:8080/"
        },
        "id": "_cHXLHGVDj8V",
        "outputId": "f2d35d78-4eb3-4f58-9864-50a51aacb4ce"
      },
      "outputs": [
        {
          "name": "stdout",
          "output_type": "stream",
          "text": [
            "No of missing title\t: 0\n",
            "No of missing text\t: 0\n",
            "No of missing source\t: 0\n",
            "fakes:  1784\n",
            "trues:  1740\n"
          ]
        }
      ],
      "source": [
        "print(\"No of missing title\\t:\", train_df[train_df['tweetOG'].isna()].shape[0])\n",
        "print(\"No of missing text\\t:\", train_df[train_df['tweetBR'].isna()].shape[0])\n",
        "print(\"No of missing source\\t:\", train_df[train_df['class_knn'].isna()].shape[0])\n",
        "\n",
        "no_of_fakes = train_df.loc[train_df['class'] == 0].count()[0]\n",
        "no_of_trues = train_df.loc[train_df['class'] == 1].count()[0]\n",
        "\n",
        "print(\"fakes: \", no_of_fakes)\n",
        "print(\"trues: \", no_of_trues)"
      ]
    },
    {
      "cell_type": "code",
      "execution_count": null,
      "metadata": {
        "colab": {
          "base_uri": "https://localhost:8080/"
        },
        "id": "lyaFjuRI2Gur",
        "outputId": "0d17c715-7d3b-47f8-ae70-cdbe350eab98"
      },
      "outputs": [
        {
          "name": "stdout",
          "output_type": "stream",
          "text": [
            "<class 'pandas.core.frame.DataFrame'>\n",
            "RangeIndex: 3524 entries, 0 to 3523\n",
            "Data columns (total 4 columns):\n",
            " #   Column     Non-Null Count  Dtype \n",
            "---  ------     --------------  ----- \n",
            " 0   tweetOG    3524 non-null   object\n",
            " 1   tweetBR    3524 non-null   object\n",
            " 2   class      3524 non-null   int64 \n",
            " 3   class_knn  3524 non-null   int64 \n",
            "dtypes: int64(2), object(2)\n",
            "memory usage: 110.2+ KB\n"
          ]
        }
      ],
      "source": [
        "train_df.info(verbose=True)"
      ]
    },
    {
      "cell_type": "code",
      "execution_count": null,
      "metadata": {
        "colab": {
          "base_uri": "https://localhost:8080/"
        },
        "id": "iYB3qwJnD8Bx",
        "outputId": "76e7299c-f3c2-45f9-e00e-974158d2e675"
      },
      "outputs": [
        {
          "name": "stdout",
          "output_type": "stream",
          "text": [
            "[nltk_data] Downloading package stopwords to /root/nltk_data...\n",
            "[nltk_data]   Unzipping corpora/stopwords.zip.\n",
            "{'tivermos', 'seria', 'somos', 'estiver', 'era', 'está', 'estivéssemos', 'houverá', 'vocês', 'são', 'tu', 'há', 'numa', 'nossa', 'estes', 'aquelas', 'que', 'estiverem', 'será', 'tivemos', 'pela', 'houveríamos', 'e', 'estas', 'tivéssemos', 'meus', 'te', 'fui', 'hão', 'estivemos', 'tivesse', 'terá', 'mais', 'houvéramos', 'fora', 'minha', 'das', 'for', 'terei', 'aquele', 'houveram', 'houvermos', 'de', 'como', 'estamos', 'estava', 'sem', 'também', 'formos', 'esteve', 'minhas', 'à', 'não', 'do', 'houve', 'muito', 'estivermos', 'havemos', 'meu', 'tenho', 'um', 'entre', 'estejam', 'hajam', 'nossos', 'fôramos', 'hajamos', 'hei', 'pelas', 'estivera', 'tua', 'tiveram', 'sejamos', 'estiveram', 'é', 'houveriam', 'fomos', 'éramos', 'sou', 'essa', 'tinha', 'já', 'haja', 'estivessem', 'este', 'tinham', 'estávamos', 'houverão', 'aos', 'tínhamos', 'elas', 'isto', 'na', 'pelo', 'estive', 'teus', 'esta', 'esses', 'eram', 'nós', 'tenhamos', 'seriam', 'teve', 'houverei', 'teu', 'sejam', 'houverem', 'você', 'deles', 'eles', 'com', 'teríamos', 'dos', 'depois', 'seus', 'serão', 'lhes', 'tivessem', 'isso', 'serei', 'esse', 'às', 'aquilo', 'aquela', 'estão', 'houvesse', 'fosse', 'eu', 'houvéssemos', 'nas', 'temos', 'seu', 'pelos', 'a', 'estivéramos', 'houvera', 'seja', 'nem', 'nossas', 'tem', 'seremos', 'quem', 'tivéramos', 'delas', 'estivesse', 'teria', 'houveria', 'lhe', 'me', 'ela', 'fossem', 'se', 'esteja', 'teremos', 'nos', 'tiver', 'no', 'as', 'forem', 'essas', 'dela', 'aqueles', 'fôssemos', 'o', 'só', 'ou', 'em', 'teriam', 'terão', 'nosso', 'mesmo', 'ele', 'houver', 'tivera', 'sua', 'seríamos', 'qual', 'tém', 'tive', 'foi', 'tenha', 'houvessem', 'tiverem', 'estejamos', 'tenham', 'vos', 'dele', 'quando', 'estavam', 'suas', 'houvemos', 'houveremos', 'mas', 'foram', 'estou', 'tuas', 'para', 'uma', 'ao', 'por', 'num', 'até', 'da', 'os'}\n"
          ]
        }
      ],
      "source": [
        "nltk.download('stopwords')\n",
        "\n",
        "stop_words = set(stopwords.words('portuguese'))\n",
        "\n",
        "print(stop_words)"
      ]
    },
    {
      "cell_type": "code",
      "execution_count": null,
      "metadata": {
        "id": "2bJg9vYvEDMc"
      },
      "outputs": [],
      "source": [
        "def clean(text):\n",
        "  text = text.lower()\n",
        "  \n",
        "  #remove @ mentions\n",
        "  text = re.sub(r'@[a-z0-9]+','',text)\n",
        "  \n",
        "  #remove any kind of link\n",
        "  text= re.sub(r'http\\S+', '', text) \n",
        "\n",
        "  # Removing numbers\n",
        "  text = re.sub('[^a-zà-ü]+',' ',text) \n",
        "\n",
        "  word_tokens = word_tokenize(text)\n",
        "\n",
        "  filtered_sentence = []\n",
        "  for word_token in word_tokens:\n",
        "      if word_token not in stop_words:\n",
        "          filtered_sentence.append(word_token)\n",
        "  \n",
        "  text = (' '.join(filtered_sentence))\n",
        "  return text"
      ]
    },
    {
      "cell_type": "code",
      "execution_count": null,
      "metadata": {
        "colab": {
          "base_uri": "https://localhost:8080/"
        },
        "id": "rhZG9nERFCef",
        "outputId": "e724c253-761e-4528-f6ce-8c2fc739ec77"
      },
      "outputs": [
        {
          "name": "stdout",
          "output_type": "stream",
          "text": [
            "[nltk_data] Downloading package punkt to /root/nltk_data...\n",
            "[nltk_data]   Unzipping tokenizers/punkt.zip.\n",
            "Wisconsin está vendo um declínio no Covid Infectionó.\n",
            "Postagens do Facebook Reivindicam uma criança que está infectada com o romance coronavírus será levada a um hospital desacompanhado.\n",
            "Índia Ministério dos Assuntos Internos que proíbem os cidadãos de postar sobre o novo coronavírus nas mídias sociais.\n",
            "42 Senadores democráticos, mais dois independentes, votados contra o envio de pagamentos diretos para os americanos como parte do pacote de estímulo econômico de coronavírus.\n",
            "após limpeza...\n",
            "wisconsin vendo declínio covid infectionó\n",
            "postagens facebook reivindicam criança infectada romance coronavírus levada hospital desacompanhado\n",
            "índia ministério assuntos internos proíbem cidadãos postar sobre novo coronavírus mídias sociais\n",
            "senadores democráticos dois independentes votados contra envio pagamentos diretos americanos parte pacote estímulo econômico coronavírus\n"
          ]
        }
      ],
      "source": [
        "nltk.download('punkt')\n",
        "\n",
        "print(train_df['tweetBR'][1])\n",
        "print(train_df['tweetBR'][2])\n",
        "print(train_df['tweetBR'][3])\n",
        "print(train_df['tweetBR'][4])\n",
        "\n",
        "print(\"após limpeza...\")\n",
        "\n",
        "print(clean(train_df['tweetBR'][1]))\n",
        "print(clean(train_df['tweetBR'][2]))\n",
        "print(clean(train_df['tweetBR'][3]))\n",
        "print(clean(train_df['tweetBR'][4]))"
      ]
    },
    {
      "cell_type": "code",
      "execution_count": null,
      "metadata": {
        "colab": {
          "base_uri": "https://localhost:8080/"
        },
        "id": "rgKmsxaxFghQ",
        "outputId": "b978c1e8-7770-47b0-f61f-82a4c526cb5e"
      },
      "outputs": [
        {
          "data": {
            "text/plain": [
              "0       Postagens do Facebook compartilhadas em pelo m...\n",
              "1       Wisconsin está vendo um declínio no Covid Infe...\n",
              "2       Postagens do Facebook Reivindicam uma criança ...\n",
              "3       Índia Ministério dos Assuntos Internos que pro...\n",
              "4       42 Senadores democráticos, mais dois independe...\n",
              "                              ...                        \n",
              "3519    Outra cura para Covid- deve assistir! https://...\n",
              "3520    E dá bilhões a Bill Gates e Gavi para um tiro ...\n",
              "3521    @ Lionhea31111776 Todo este melodrama Covid é ...\n",
              "3522    Bill Gates nunca usa uma máscara e leva grande...\n",
              "3523    Médico encontra cura para Covid-19 (sem vacina...\n",
              "Name: tweetBR, Length: 3524, dtype: object"
            ]
          },
          "execution_count": 8,
          "metadata": {},
          "output_type": "execute_result"
        }
      ],
      "source": [
        "train_df['tweetBR'] "
      ]
    },
    {
      "cell_type": "code",
      "execution_count": null,
      "metadata": {
        "colab": {
          "base_uri": "https://localhost:8080/"
        },
        "id": "XgkS5HrwFkt3",
        "outputId": "30fcb82b-0034-445d-afe3-286aad682fe5"
      },
      "outputs": [
        {
          "data": {
            "text/plain": [
              "0       postagens facebook compartilhadas menos três p...\n",
              "1               wisconsin vendo declínio covid infectionó\n",
              "2       postagens facebook reivindicam criança infecta...\n",
              "3       índia ministério assuntos internos proíbem cid...\n",
              "4       senadores democráticos dois independentes vota...\n",
              "                              ...                        \n",
              "3519                       outra cura covid deve assistir\n",
              "3520    dá bilhões bill gates gavi tiro covid esterili...\n",
              "3521    lionhea todo melodrama covid artificialmente i...\n",
              "3522    bill gates nunca usa máscara leva grandes bene...\n",
              "3523                médico encontra cura covid vacina via\n",
              "Name: tweetBR, Length: 3524, dtype: object"
            ]
          },
          "execution_count": 9,
          "metadata": {},
          "output_type": "execute_result"
        }
      ],
      "source": [
        "train_df['tweetBR'] = train_df['tweetBR'].apply(clean)\n",
        "\n",
        "train_df['tweetBR']"
      ]
    },
    {
      "cell_type": "code",
      "execution_count": null,
      "metadata": {
        "colab": {
          "base_uri": "https://localhost:8080/"
        },
        "id": "vYkpZWOX2lVV",
        "outputId": "760aceea-0bf1-4be8-c3f5-e73d5f507b7d"
      },
      "outputs": [
        {
          "name": "stdout",
          "output_type": "stream",
          "text": [
            "31\n",
            "0\n",
            "0       postagens facebook compartilhadas menos três p...\n",
            "1               wisconsin vendo declínio covid infectionó\n",
            "2       postagens facebook reivindicam criança infecta...\n",
            "3       índia ministério assuntos internos proíbem cid...\n",
            "4       senadores democráticos dois independentes vota...\n",
            "                              ...                        \n",
            "3519                       outra cura covid deve assistir\n",
            "3520    dá bilhões bill gates gavi tiro covid esterili...\n",
            "3521    lionhea todo melodrama covid artificialmente i...\n",
            "3522    bill gates nunca usa máscara leva grandes bene...\n",
            "3523                médico encontra cura covid vacina via\n",
            "Name: tweetBR, Length: 3493, dtype: object\n",
            "<class 'pandas.core.frame.DataFrame'>\n",
            "Int64Index: 3493 entries, 0 to 3523\n",
            "Data columns (total 4 columns):\n",
            " #   Column     Non-Null Count  Dtype \n",
            "---  ------     --------------  ----- \n",
            " 0   tweetOG    3493 non-null   object\n",
            " 1   tweetBR    3493 non-null   object\n",
            " 2   class      3493 non-null   int64 \n",
            " 3   class_knn  3493 non-null   int64 \n",
            "dtypes: int64(2), object(2)\n",
            "memory usage: 136.4+ KB\n"
          ]
        }
      ],
      "source": [
        "print(train_df.tweetBR.duplicated().sum())\n",
        "\n",
        "train_df.drop_duplicates(subset=['tweetBR'], inplace=True)\n",
        "\n",
        "print(train_df.tweetBR.duplicated().sum())\n",
        "\n",
        "print(train_df['tweetBR'])\n",
        "\n",
        "train_df.info(verbose=True)"
      ]
    },
    {
      "cell_type": "code",
      "execution_count": null,
      "metadata": {
        "colab": {
          "base_uri": "https://localhost:8080/"
        },
        "id": "QLbxO_aP2pU5",
        "outputId": "d1867620-d322-444b-c0a6-f79637fb5c29"
      },
      "outputs": [
        {
          "name": "stdout",
          "output_type": "stream",
          "text": [
            "1770\n",
            "1723\n"
          ]
        }
      ],
      "source": [
        "no_of_fakes = train_df.loc[train_df['class'] == 0].count()[0]\n",
        "no_of_trues = train_df.loc[train_df['class'] == 1].count()[0]\n",
        "\n",
        "print(no_of_fakes)\n",
        "print(no_of_trues)"
      ]
    },
    {
      "cell_type": "code",
      "execution_count": null,
      "metadata": {
        "id": "8ue8rajSIEh-"
      },
      "outputs": [],
      "source": [
        "X = train_df['tweetBR']\n",
        "y = train_df['class_knn']"
      ]
    },
    {
      "cell_type": "code",
      "execution_count": null,
      "metadata": {
        "id": "vQqcQlPAITcp"
      },
      "outputs": [],
      "source": [
        "X_train, X_test, y_train, y_test = train_test_split(X, y, shuffle=True, test_size=0.2, random_state=11)"
      ]
    },
    {
      "cell_type": "code",
      "execution_count": null,
      "metadata": {
        "colab": {
          "base_uri": "https://localhost:8080/"
        },
        "id": "VAifAPQi27ss",
        "outputId": "b518a517-0292-44c4-84bf-43cfb81991d0"
      },
      "outputs": [
        {
          "data": {
            "text/plain": [
              "1890    usuários medicamento pressão arterial têm risc...\n",
              "1234    casos aumentam europa onde restrições facilitadas\n",
              "1662    sintoma perfis amostra conveniência pacientes ...\n",
              "469     óamerica sido vacinante gado coronavírus anos ...\n",
              "630     dolores cahill afirma entrevista sobre highwir...\n",
              "                              ...                        \n",
              "1307    autoridades saúde sc dizem usam trabalhos másc...\n",
              "3440    covid mentira vestindo máscara trabalho diabo ...\n",
              "3194    acorde pessoas foda teórico conspiração execut...\n",
              "1118                quais complicações neurológicas covid\n",
              "1959    estudo identifica drogas existentes podem ajud...\n",
              "Name: tweetBR, Length: 2794, dtype: object"
            ]
          },
          "execution_count": 14,
          "metadata": {},
          "output_type": "execute_result"
        }
      ],
      "source": [
        "X_train"
      ]
    },
    {
      "cell_type": "code",
      "execution_count": null,
      "metadata": {
        "colab": {
          "base_uri": "https://localhost:8080/"
        },
        "id": "vbmSZQTDIM8t",
        "outputId": "630300c3-bf64-42ef-f792-0ed4dac886cf"
      },
      "outputs": [
        {
          "data": {
            "text/plain": [
              "array([[0, 0, 0, ..., 0, 0, 0],\n",
              "       [0, 0, 0, ..., 0, 0, 0],\n",
              "       [0, 0, 0, ..., 0, 0, 0],\n",
              "       ...,\n",
              "       [0, 0, 0, ..., 0, 0, 0],\n",
              "       [0, 0, 0, ..., 0, 0, 0],\n",
              "       [0, 0, 0, ..., 0, 0, 0]])"
            ]
          },
          "execution_count": 15,
          "metadata": {},
          "output_type": "execute_result"
        }
      ],
      "source": [
        "vectorizer = CountVectorizer()\n",
        "X_train = vectorizer.fit_transform(X_train)\n",
        "array = X_train.toarray()\n",
        "array"
      ]
    },
    {
      "cell_type": "code",
      "execution_count": null,
      "metadata": {
        "colab": {
          "base_uri": "https://localhost:8080/"
        },
        "id": "9tnfTVhjUxT2",
        "outputId": "654b1430-1d53-41a7-a5e0-b5ef463068c3"
      },
      "outputs": [],
      "source": [
        "from sklearn.neighbors import KNeighborsClassifier\n",
        "from sklearn.model_selection import GridSearchCV\n",
        "# Creating object that corresponds to model with specified params\n",
        "model = KNeighborsClassifier()\n",
        "# Identifying correct number of neighbors\n",
        "param_grid = {'n_neighbors': np.arange(1,25)}\n",
        "knn_gscv = GridSearchCV(model, param_grid)\n",
        "knn_gscv.fit(X_train, y_train)"
      ]
    },
    {
      "cell_type": "code",
      "execution_count": null,
      "metadata": {
        "colab": {
          "base_uri": "https://localhost:8080/"
        },
        "id": "ATUxQmpcGzUK",
        "outputId": "b3ab3a74-6572-45da-ce3b-ed3f576a09e0"
      },
      "outputs": [
        {
          "data": {
            "text/plain": [
              "{'n_neighbors': 3}"
            ]
          },
          "execution_count": 17,
          "metadata": {},
          "output_type": "execute_result"
        }
      ],
      "source": [
        "# Check value of best precision\n",
        "knn_gscv.best_params_"
      ]
    },
    {
      "cell_type": "code",
      "execution_count": null,
      "metadata": {
        "colab": {
          "base_uri": "https://localhost:8080/"
        },
        "id": "bh5Nlb7UJSnd",
        "outputId": "c87cbe61-352f-44d3-e2aa-09c977bd9e8f"
      },
      "outputs": [
        {
          "data": {
            "text/plain": [
              "0.6904110643045376"
            ]
          },
          "execution_count": 18,
          "metadata": {},
          "output_type": "execute_result"
        }
      ],
      "source": [
        "knn_gscv.best_score_"
      ]
    },
    {
      "cell_type": "code",
      "execution_count": null,
      "metadata": {
        "colab": {
          "base_uri": "https://localhost:8080/"
        },
        "id": "7u8SuW91HL0D",
        "outputId": "01a001e4-bb7e-442a-8bbb-29eeda527470"
      },
      "outputs": [],
      "source": [
        "model = KNeighborsClassifier(n_neighbors=3)\n",
        "model.fit(X_train, y_train)"
      ]
    },
    {
      "cell_type": "code",
      "execution_count": null,
      "metadata": {
        "colab": {
          "base_uri": "https://localhost:8080/"
        },
        "id": "EhMfYKU43Nfy",
        "outputId": "2e8fc8ab-8910-409f-dc65-907d52c5ee91"
      },
      "outputs": [],
      "source": [
        "X_test = vectorizer.transform(X_test)\n",
        "X_test"
      ]
    },
    {
      "cell_type": "code",
      "execution_count": null,
      "metadata": {
        "colab": {
          "base_uri": "https://localhost:8080/"
        },
        "id": "NE8xqzZ1yUYx",
        "outputId": "5995b7e6-6ba2-409f-d981-fa0628a0ddcb"
      },
      "outputs": [
        {
          "name": "stdout",
          "output_type": "stream",
          "text": [
            "0.8586256263421618\n",
            "0.6866952789699571\n"
          ]
        }
      ],
      "source": [
        "print(model.score(X_train, y_train))\n",
        "print(model.score(X_test, y_test))"
      ]
    },
    {
      "cell_type": "code",
      "execution_count": null,
      "metadata": {
        "colab": {
          "base_uri": "https://localhost:8080/"
        },
        "id": "mmXr5XjfUxc5",
        "outputId": "a4dcae8e-c97d-4493-dda9-bdbb2915925d"
      },
      "outputs": [
        {
          "data": {
            "text/plain": [
              "array([0, 0, 0, 0, 0, 0, 0, 0, 1, 0, 1, 0, 0, 1, 0, 0, 0, 1, 0, 0, 0, 0,\n",
              "       1, 0, 1, 0, 0, 1, 0, 0, 1, 0, 0, 0, 0, 0, 0, 0, 0, 1, 1, 0, 1, 0,\n",
              "       1, 0, 0, 1, 0, 0, 0, 0, 0, 1, 0, 0, 1, 0, 0, 0, 0, 0, 0, 1, 0, 0,\n",
              "       1, 0, 0, 0, 0, 0, 0, 1, 0, 0, 0, 0, 0, 1, 0, 0, 1, 0, 0, 0, 0, 0,\n",
              "       0, 1, 1, 0, 0, 0, 0, 0, 0, 0, 0, 0, 0, 0, 0, 0, 0, 0, 1, 0, 0, 0,\n",
              "       0, 1, 0, 0, 0, 0, 0, 0, 0, 0, 1, 0, 0, 0, 1, 0, 0, 1, 0, 1, 1, 0,\n",
              "       0, 0, 1, 0, 0, 1, 0, 1, 0, 0, 0, 0, 0, 1, 0, 0, 0, 0, 1, 1, 1, 0,\n",
              "       0, 0, 1, 1, 0, 0, 0, 0, 0, 1, 0, 0, 0, 1, 0, 0, 0, 1, 1, 1, 0, 0,\n",
              "       1, 1, 1, 0, 0, 1, 0, 0, 0, 0, 1, 0, 0, 0, 0, 0, 0, 1, 1, 0, 0, 1,\n",
              "       0, 1, 1, 0, 1, 1, 0, 0, 0, 1, 1, 0, 0, 0, 0, 0, 0, 0, 0, 0, 1, 0,\n",
              "       0, 0, 1, 0, 0, 0, 1, 0, 0, 0, 0, 0, 1, 0, 1, 0, 0, 0, 1, 0, 0, 0,\n",
              "       1, 0, 1, 0, 0, 0, 1, 0, 1, 0, 0, 0, 0, 1, 0, 1, 0, 0, 0, 0, 0, 0,\n",
              "       1, 0, 1, 0, 1, 0, 1, 1, 0, 0, 0, 1, 1, 0, 1, 1, 0, 0, 0, 1, 0, 0,\n",
              "       0, 0, 0, 1, 1, 0, 0, 1, 1, 0, 1, 0, 0, 0, 0, 1, 0, 0, 1, 0, 0, 1,\n",
              "       1, 1, 1, 1, 0, 1, 0, 0, 0, 0, 0, 1, 0, 0, 1, 0, 1, 1, 1, 0, 0, 0,\n",
              "       0, 0, 0, 0, 1, 0, 0, 0, 0, 1, 0, 0, 1, 0, 1, 0, 0, 1, 1, 0, 0, 0,\n",
              "       0, 0, 0, 0, 0, 0, 0, 1, 0, 0, 1, 0, 0, 0, 0, 1, 1, 0, 0, 0, 0, 1,\n",
              "       0, 0, 1, 1, 0, 0, 0, 0, 1, 1, 0, 0, 0, 0, 1, 0, 0, 1, 0, 0, 0, 1,\n",
              "       1, 0, 0, 0, 0, 0, 1, 0, 0, 0, 0, 0, 0, 0, 0, 0, 1, 0, 0, 0, 0, 1,\n",
              "       0, 0, 0, 0, 0, 1, 0, 0, 0, 0, 1, 0, 0, 0, 0, 1, 0, 0, 0, 0, 0, 0,\n",
              "       0, 0, 0, 0, 0, 0, 0, 1, 0, 0, 0, 0, 0, 1, 0, 0, 0, 0, 0, 0, 1, 1,\n",
              "       1, 0, 0, 0, 1, 0, 0, 0, 0, 1, 0, 0, 0, 0, 0, 0, 0, 0, 0, 0, 1, 0,\n",
              "       0, 0, 1, 0, 0, 0, 0, 0, 1, 0, 0, 1, 0, 0, 0, 0, 0, 1, 0, 0, 0, 0,\n",
              "       0, 0, 0, 0, 1, 0, 0, 0, 0, 0, 0, 1, 0, 1, 0, 0, 0, 0, 1, 1, 0, 0,\n",
              "       0, 0, 0, 0, 0, 1, 0, 0, 0, 0, 1, 0, 0, 0, 0, 0, 1, 0, 0, 1, 0, 0,\n",
              "       1, 1, 1, 0, 0, 1, 0, 0, 0, 0, 0, 1, 1, 0, 0, 1, 0, 0, 1, 0, 1, 0,\n",
              "       0, 0, 1, 0, 0, 0, 0, 0, 0, 0, 0, 1, 0, 0, 0, 0, 0, 0, 0, 0, 0, 0,\n",
              "       0, 0, 0, 1, 0, 1, 1, 0, 0, 1, 0, 0, 0, 0, 0, 0, 0, 1, 0, 0, 0, 0,\n",
              "       0, 0, 0, 0, 0, 0, 1, 1, 0, 0, 0, 0, 0, 0, 0, 0, 0, 0, 1, 0, 0, 0,\n",
              "       0, 1, 0, 0, 0, 1, 0, 0, 1, 0, 1, 1, 0, 1, 0, 0, 1, 0, 0, 0, 0, 0,\n",
              "       1, 0, 0, 0, 0, 0, 0, 0, 1, 0, 0, 0, 1, 0, 0, 0, 0, 1, 0, 1, 0, 0,\n",
              "       0, 1, 0, 0, 0, 0, 0, 0, 0, 0, 0, 1, 1, 0, 0, 1, 1])"
            ]
          },
          "execution_count": 22,
          "metadata": {},
          "output_type": "execute_result"
        }
      ],
      "source": [
        "# Test data preview\n",
        "predictions = model.predict(X_test)\n",
        "predictions"
      ]
    },
    {
      "cell_type": "code",
      "execution_count": null,
      "metadata": {
        "colab": {
          "base_uri": "https://localhost:8080/"
        },
        "id": "5hiWJvIe1hzc",
        "outputId": "b8cc331a-1139-4f6a-dd56-44e31ecd0ff5"
      },
      "outputs": [
        {
          "data": {
            "text/plain": [
              "array([[320,  19],\n",
              "       [200, 160]])"
            ]
          },
          "execution_count": 23,
          "metadata": {},
          "output_type": "execute_result"
        }
      ],
      "source": [
        "cm = confusion_matrix(y_test, predictions)\n",
        "cm"
      ]
    },
    {
      "cell_type": "code",
      "execution_count": null,
      "metadata": {
        "colab": {
          "base_uri": "https://localhost:8080/",
          "height": 388
        },
        "id": "hfOYx7m51mz-",
        "outputId": "aa616b8a-01c3-4d88-8229-cf62553b3d07"
      },
      "outputs": [
        {
          "data": {
            "image/png": "[encoded data removed]",
            "text/plain": [
              "<Figure size 432x432 with 1 Axes>"
            ]
          },
          "metadata": {
            "needs_background": "light"
          },
          "output_type": "display_data"
        }
      ],
      "source": [
        "plt.figure(figsize=(6,6))\n",
        "sns.heatmap(cm, annot=True, fmt='d', xticklabels=['FAKE', 'TRUE'], yticklabels=['FAKE', 'TRUE'], cmap=plt.cm.Blues, cbar=False)\n",
        "plt.xlabel('Predicted Label')\n",
        "plt.ylabel('True Label')\n",
        "plt.show()"
      ]
    },
    {
      "cell_type": "code",
      "execution_count": null,
      "metadata": {
        "colab": {
          "base_uri": "https://localhost:8080/"
        },
        "id": "DXISIpjj15uU",
        "outputId": "910a5ecb-e7b5-45b2-bfa1-b55cc4e4a26a"
      },
      "outputs": [
        {
          "name": "stdout",
          "output_type": "stream",
          "text": [
            "precisão:  0.6866952789699571\n",
            "              precision    recall  f1-score   support\n",
            "\n",
            "           0       0.62      0.94      0.75       339\n",
            "           1       0.89      0.44      0.59       360\n",
            "\n",
            "    accuracy                           0.69       699\n",
            "   macro avg       0.75      0.69      0.67       699\n",
            "weighted avg       0.76      0.69      0.67       699\n",
            "\n"
          ]
        }
      ],
      "source": [
        "result = model.predict(X_test) \n",
        "print(\"precisão: \", accuracy_score(y_test, result)) \n",
        "print (classification_report(y_test, result))"
      ]
    },
    {
      "cell_type": "code",
      "execution_count": null,
      "metadata": {
        "colab": {
          "base_uri": "https://localhost:8080/"
        },
        "id": "2c4UAKiv2Z_7",
        "outputId": "c93b1567-ff5a-4cf7-d76d-212523784e07"
      },
      "outputs": [
        {
          "name": "stdout",
          "output_type": "stream",
          "text": [
            "0\n"
          ]
        }
      ],
      "source": [
        "# Example\n",
        "testSentence = \"@DrJohnB2 Meu Deus... mais um elemento além das substâncias das w4cin4s. Óleo de silicone nas seringas. @SF_Moro @mariosabinof @DanielaLima_ @renataagostini @fabiarichter @GiselaSavioli @biodireito @consumidor_gov @JusticaGovBR PROCON? @JanainaDoBrasil @deltanmd @alexandregarcia\"\n",
        "\n",
        "testSentence = clean(testSentence)\n",
        "vectorizedSentence = vectorizer.transform([testSentence]).toarray()\n",
        "result = model.predict(vectorizedSentence)\n",
        "\n",
        "print(result[0])"
      ]
    },
    {
      "cell_type": "code",
      "execution_count": null,
      "metadata": {
        "id": "A1gyp2RS2zu2"
      },
      "outputs": [],
      "source": [
        "def predictTweet(tweet):\n",
        "\n",
        "  cleanTweetText = clean(tweet)\n",
        "  vectorizedSentence = vectorizer.transform([cleanTweetText]).toarray()\n",
        "  prediction = model.predict(vectorizedSentence)\n",
        "  \n",
        "  if prediction[0] == 0:\n",
        "    label = 'Fake'\n",
        "    labelPredict = model.predict_proba(vectorizedSentence)[:,1][0]\n",
        "  else:\n",
        "    label = 'True'\n",
        "    labelPredict = model.predict_proba(vectorizedSentence)[:,0][0]\n",
        "\n",
        "  return label, labelPredict"
      ]
    },
    {
      "cell_type": "code",
      "execution_count": null,
      "metadata": {
        "id": "GXzokcfcNvzS"
      },
      "outputs": [],
      "source": [
        "tweets_df = pd.read_csv('tweets.csv')"
      ]
    },
    {
      "cell_type": "code",
      "execution_count": null,
      "metadata": {
        "colab": {
          "base_uri": "https://localhost:8080/"
        },
        "id": "ufr-GWqa24WG",
        "outputId": "118f72a4-64c4-4e0a-f34c-e69e0c884d23"
      },
      "outputs": [
        {
          "name": "stdout",
          "output_type": "stream",
          "text": [
            "1674\n",
            "1674\n"
          ]
        }
      ],
      "source": [
        "classification_array = []\n",
        "confidence_array = []\n",
        "\n",
        "for index, row in tweets_df.iterrows():\n",
        "    classification, confidence = predictTweet(row['tweet'])\n",
        "    classification_array.append(classification)\n",
        "    confidence_array.append(confidence)\n",
        "\n",
        "print(len(classification_array))\n",
        "print(len(confidence_array))"
      ]
    },
    {
      "cell_type": "code",
      "execution_count": null,
      "metadata": {
        "id": "8vhSK15_4uWZ"
      },
      "outputs": [],
      "source": [
        "dfPredictions = pd.DataFrame({'tweet': tweets_df['tweet'], 'classification': classification_array, 'confidence':  confidence_array})"
      ]
    },
    {
      "cell_type": "code",
      "execution_count": null,
      "metadata": {
        "colab": {
          "base_uri": "https://localhost:8080/",
          "height": 912
        },
        "id": "t7Bu3ncw4w2d",
        "outputId": "2a346f19-2654-4413-cfc7-d7e558345986"
      },
      "outputs": [],
      "source": [
        " #before\n",
        "pd.set_option('display.max_columns', None)\n",
        "pd.set_option('display.expand_frame_repr', False)\n",
        "pd.set_option('max_colwidth', None)\n",
        "dfPredictions"
      ]
    },
    {
      "cell_type": "code",
      "execution_count": null,
      "metadata": {
        "colab": {
          "base_uri": "https://localhost:8080/",
          "height": 657
        },
        "id": "bu-yYBAkqrQ7",
        "outputId": "3a8ebb62-20fd-452b-a6cf-4154200c681b"
      },
      "outputs": [],
      "source": [
        "#after\n",
        "dfPredictionsOrd = dfPredictions.sort_values('classification', inplace=False)\n",
        "dfPredictionsOrdOld = dfPredictionsOrd\n",
        "dfPredictionsOrd = dfPredictionsOrd.drop('confidence', axis=1)\n",
        "dfPredictionsOrd"
      ]
    },
    {
      "cell_type": "code",
      "execution_count": null,
      "metadata": {
        "colab": {
          "base_uri": "https://localhost:8080/"
        },
        "id": "C-NZ-EbO5OMM",
        "outputId": "ec893fe0-d830-483c-ade6-8e8c09f44b8e"
      },
      "outputs": [
        {
          "name": "stdout",
          "output_type": "stream",
          "text": [
            "number of fakes in test:  1561\n",
            "number of trues in test:  113\n"
          ]
        }
      ],
      "source": [
        "no_of_fakes = dfPredictions.loc[dfPredictions['classification'] == 'Fake'].count()[0]\n",
        "no_of_trues = dfPredictions.loc[dfPredictions['classification'] == 'True'].count()[0]\n",
        "\n",
        "print(\"number of fakes in test: \", no_of_fakes)\n",
        "print(\"number of trues in test: \", no_of_trues)"
      ]
    }
  ],
  "metadata": {
    "colab": {
      "collapsed_sections": [],
      "name": "Shin TCC-detec-knn.ipynb",
      "provenance": []
    },
    "kernelspec": {
      "display_name": "Python 3",
      "name": "python3"
    },
    "language_info": {
      "name": "python"
    }
  },
  "nbformat": 4,
  "nbformat_minor": 0
}