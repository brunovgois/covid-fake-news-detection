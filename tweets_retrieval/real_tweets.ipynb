{
 "cells": [
  {
   "cell_type": "code",
   "execution_count": 2,
   "metadata": {},
   "outputs": [],
   "source": [
    "import requests\n",
    "import os\n",
    "import json\n",
    "import csv\n",
    "import time\n",
    "\n",
    "with open('keys.txt', 'r') as tfile:\n",
    "    consumer_key = tfile.readline().strip('\\n')\n",
    "    consumer_secret = tfile.readline().strip('\\n')\n",
    "    access_token = tfile.readline().strip('\\n')\n",
    "    access_secret = tfile.readline().strip('\\n')\n",
    "    bearer_token = tfile.readline().strip('\\n')\n"
   ]
  },
  {
   "cell_type": "code",
   "execution_count": 3,
   "metadata": {},
   "outputs": [],
   "source": [
    "def bearer_oauth(r):\n",
    "    r.headers[\"Authorization\"] = f\"Bearer {bearer_token}\"\n",
    "    r.headers[\"User-Agent\"] = \"v2FilteredStreamPython\"\n",
    "    return r"
   ]
  },
  {
   "cell_type": "code",
   "execution_count": 4,
   "metadata": {},
   "outputs": [],
   "source": [
    "def get_rules():\n",
    "    response = requests.get(\n",
    "        \"https://api.twitter.com/2/tweets/search/stream/rules\", auth=bearer_oauth\n",
    "    )\n",
    "    if response.status_code != 200:\n",
    "        raise Exception(\n",
    "            \"Cannot get rules (HTTP {}): {}\".format(response.status_code, response.text)\n",
    "        )\n",
    "    print(json.dumps(response.json()))\n",
    "    return response.json()"
   ]
  },
  {
   "cell_type": "code",
   "execution_count": 5,
   "metadata": {},
   "outputs": [],
   "source": [
    "def delete_all_rules(rules):\n",
    "    if rules is None or \"data\" not in rules:\n",
    "        return None\n",
    "\n",
    "    ids = list(map(lambda rule: rule[\"id\"], rules[\"data\"]))\n",
    "    payload = {\"delete\": {\"ids\": ids}}\n",
    "    response = requests.post(\n",
    "        \"https://api.twitter.com/2/tweets/search/stream/rules\",\n",
    "        auth=bearer_oauth,\n",
    "        json=payload\n",
    "    )\n",
    "    if response.status_code != 200:\n",
    "        raise Exception(\n",
    "            \"Cannot delete rules (HTTP {}): {}\".format(\n",
    "                response.status_code, response.text\n",
    "            )\n",
    "        )\n",
    "    print(json.dumps(response.json()))\n"
   ]
  },
  {
   "cell_type": "code",
   "execution_count": 6,
   "metadata": {},
   "outputs": [],
   "source": [
    "def set_rules(delete):\n",
    "    sample_rules = [\n",
    "        {\"value\": \"context:123.1220701888179359745\", \"tag\": \"covid-19\"},\n",
    "        \n",
    "    ]\n",
    "    payload = {\"add\": sample_rules}\n",
    "    response = requests.post(\n",
    "        \"https://api.twitter.com/2/tweets/search/stream/rules\",\n",
    "        auth=bearer_oauth,\n",
    "        json=payload,\n",
    "    )\n",
    "    if response.status_code != 201:\n",
    "        raise Exception(\n",
    "            \"Cannot add rules (HTTP {}): {}\".format(response.status_code, response.text)\n",
    "        )\n",
    "    print(json.dumps(response.json()))"
   ]
  },
  {
   "cell_type": "code",
   "execution_count": 7,
   "metadata": {},
   "outputs": [],
   "source": [
    "def get_params():\n",
    "    return {\"tweet.fields\": \"lang,created_at\",\n",
    "            \"expansions\": \"author_id\",\n",
    "           }"
   ]
  },
  {
   "cell_type": "code",
   "execution_count": 8,
   "metadata": {},
   "outputs": [],
   "source": [
    "filename = \"tweets\"\n",
    "\n",
    "def get_stream(set):\n",
    "    response = requests.get(\n",
    "        \"https://api.twitter.com/2/tweets/search/stream\", auth=bearer_oauth, stream=True, params=get_params())\n",
    "   \n",
    "\n",
    "    if response.status_code != 200:\n",
    "        raise Exception(\n",
    "            \"Cannot get stream (HTTP {}): {}\".format(\n",
    "                response.status_code, response.text\n",
    "            )\n",
    "        )\n",
    "    \n",
    "\n",
    "    file = open(filename+\".csv\", 'a')\n",
    "    writer = csv.writer(file)\n",
    "    writer.writerow([\"tweet\", \"tweet URL\", \"author id\", \"created at\"])\n",
    "\n",
    "    for response_line in response.iter_lines():\n",
    "        if response_line:\n",
    "            decoded_line = response_line.decode('utf-8')\n",
    "            json_response = json.loads(decoded_line)\n",
    "            \n",
    "            if json_response['data']:\n",
    "                if json_response['data']['lang'] != 'pt':\n",
    "                    continue\n",
    "            \n",
    "                tweetText = json_response['data']['text']\n",
    "                authorId = json_response['data']['author_id']\n",
    "                tweetId = json_response['data']['id']\n",
    "                createdAt = json_response['data']['created_at']\n",
    "\n",
    "                linkTweet = \"https://twitter.com/user/status/\" + str(tweetId)\n",
    "\n",
    "                writer.writerow([tweetText, linkTweet, authorId, createdAt])\n",
    "            \n",
    "    file.close()"
   ]
  },
  {
   "cell_type": "code",
   "execution_count": null,
   "metadata": {
    "scrolled": false
   },
   "outputs": [],
   "source": [
    "def main():\n",
    "    rules = get_rules()\n",
    "    delete = delete_all_rules(rules)\n",
    "    set = set_rules(delete)\n",
    "    \n",
    "    timeout = 0\n",
    "    \n",
    "    while True:\n",
    "        time.sleep(2**timeout)\n",
    "        timeout += 1\n",
    "        get_stream(set)\n",
    "\n",
    "\n",
    "if __name__ == \"__main__\":\n",
    "    main()"
   ]
  }
 ],
 "metadata": {
  "interpreter": {
   "hash": "31f2aee4e71d21fbe5cf8b01ff0e069b9275f58929596ceb00d14d90e3e16cd6"
  },
  "kernelspec": {
   "display_name": "Python 3.8.2 64-bit",
   "name": "python3"
  },
  "language_info": {
   "name": "python",
   "version": ""
  }
 },
 "nbformat": 4,
 "nbformat_minor": 5
}